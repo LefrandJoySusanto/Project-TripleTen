{
 "cells": [
  {
   "cell_type": "markdown",
   "metadata": {
    "id": "E0vqbgi9ay0H"
   },
   "source": [
    "# Y.Music"
   ]
  },
  {
   "cell_type": "markdown",
   "metadata": {},
   "source": [
    "<div style=\"border:solid black 2px; padding: 20px\"><h1 style=\"color:green; margin-bottom:20px\">Reviewer's comment v1</h1>\n",
    "Halo Joy!\n",
    "\n",
    "Perkenalkan saya Naufal, disini saya akan mereview tugas Joy ya.\n",
    "\n",
    "Saya akan memberikan beberapa komen seperti dibawah ini, tolong jangan dipindah, dirubah, maupun dihapus ya.\n",
    "\n",
    "Komen yang saya berikan akan muncul dalam warna hijau, kuning, atau pun merah seperti ini:\n",
    "\n",
    "<div class=\"alert alert-success\">\n",
    "<b>Reviewer's comment</b> <a class=\"tocSkip\"></a>\n",
    "\n",
    "Bagus, semua berjalan lancar.\n",
    "\n",
    "</div>\n",
    "\n",
    "<div class=\"alert alert-warning\">\n",
    "<b>Reviewer's comment</b> <a class=\"tocSkip\"></a>\n",
    "\n",
    "Terdapat beberapa catatan.\n",
    "\n",
    "</div>\n",
    "\n",
    "<div class=\"alert alert-danger\">\n",
    "<b>Reviewer's comment</b> <a class=\"tocSkip\"></a>\n",
    "\n",
    "Perlu beberapa perbaikan\n",
    "\n",
    "</div>\n",
    "\n",
    "Dan tentu saja Joy dapat menjawab saya dengan menggunakan ini\n",
    "\n",
    "<div class=\"alert alert-block alert-info\">\n",
    "<b>Student answer.</b> <a class=\"tocSkip\"></a>\n",
    "</div>"
   ]
  },
  {
   "cell_type": "markdown",
   "metadata": {},
   "source": [
    "<div style=\"border:solid black 2px; padding: 20px\">\n",
    "<b>Reviewer's comment v1:</b>\n",
    "    \n",
    "<b>Overall Feedback</b> \n",
    "    \n",
    "- Secara keseluruhan ini adalah hasil yang sangat bagus! Semoga konsisten kedepanya.\n",
    "- Namun terdapat beberapa poin dimana perlu perbaikan namun saya rasa bukan lah hal yang sulit seperti terdapat beberapa pengulangan yang kurang efektif baik dalam perumusan fungsi maupun penulisan koding.\n",
    "    \n",
    "Untuk perbaikan nya ditunggu ya!\n",
    "</div>\n",
    "\n",
    "        "
   ]
  },
  {
   "cell_type": "markdown",
   "metadata": {},
   "source": [
    "<div style=\"border:solid black 2px; padding: 20px\">\n",
    "<b>Reviewer's comment v2:</b>\n",
    "    \n",
    "<b>Overall Feedback</b> \n",
    "    \n",
    "Selamat! project ini saya setujui dan bisa melanjutkan ke tahap selanjutnya. Ini merupakan kerja yang sangat bagus dan efisien. Dalam satu iterasi semua catatan dan perbaikan sudah dilakukan dengan baik. Namun tetap terdapat catatan yang mungkin akan membantu di masa depan. Semoga berhasil kedepanya!. \n",
    "</div>\n",
    "\n",
    "        "
   ]
  },
  {
   "cell_type": "markdown",
   "metadata": {
    "id": "fhq_eyov_Zcs"
   },
   "source": [
    "# Konten <a id='back'></a>\n",
    "\n",
    "* [Pendahuluan](#intro)\n",
    "* [Tahap 1. Ikhtisar Data](#data_review)\n",
    "    * [Kesimpulan](#data_review_conclusions)\n",
    "* [Tahap 2. Pra-pemrosesan Data](#data_preprocessing)\n",
    "    * [2.1 Gaya penulisan judul](#header_style)\n",
    "    * [2.2 Nilai-nilai yang hilang](#missing_values)\n",
    "    * [2.3 Duplikat](#duplicates)\n",
    "    * [2.4 Kesimpulan](#data_preprocessing_conclusions)\n",
    "* [Tahap 3. Menguji Hipotesis](#hypotheses)\n",
    "    * [3.1 Hipotesis 1: aktivitas pengguna di dua kota](#activity)\n",
    "    * [3.2 Hipotesis 2: preferensi musik pada hari Senin dan Jumat](#week)\n",
    "    * [3.3 Hipotesis 3: preferensi genre di kota Springfield dan Shelbyville](#genre)\n",
    "* [Temuan](#end)"
   ]
  },
  {
   "cell_type": "markdown",
   "metadata": {
    "id": "VUC88oWjTJw2"
   },
   "source": [
    "## Pendahuluan <a id='intro'></a>\n",
    "Setiap kali kita melakukan penelitian, kita perlu merumuskan hipotesis yang kemudian dapat kita uji. Terkadang kita menerima hipotesis ini; tetapi terkadang kita juga menolaknya. Untuk membuat keputusan yang tepat, sebuah bisnis harus dapat memahami apakah asumsi yang dibuatnya benar atau tidak.\n",
    "\n",
    "Dalam proyek kali ini, Anda akan membandingkan preferensi musik kota Springfield dan Shelbyville. Anda akan mempelajari data Y.Music yang sebenarnya untuk menguji hipotesis di bawah ini dan membandingkan perilaku pengguna di kedua kota ini.\n",
    "\n",
    "### Tujuan: \n",
    "Menguji tiga hipotesis:\n",
    "1. Aktivitas pengguna berbeda-beda tergantung pada hari dan kotanya.\n",
    "2. Pada senin pagi, penduduk Springfield dan Shelbyville mendengarkan genre yang berbeda. Hal ini juga ini juga berlaku untuk Jumat malam.\n",
    "3. Pendengar di Springfield dan Shelbyville memiliki preferensi yang berbeda. Di Springfield, mereka lebih suka musik pop, sementara Shelbyville, musik rap memiliki lebih banyak penggemar.\n",
    "\n",
    "### Tahapan\n",
    "Data tentang perilaku pengguna disimpan dalam berkas `/datasets/music_project_en.csv`. Tidak ada informasi tentang kualitas data, jadi Anda perlu memeriksanya lebih dahulu sebelum menguji hipotesis.\n",
    "\n",
    "Pertama, Anda akan mengevaluasi kualitas data dan melihat apakah masalahnya signifikan. Kemudian, selama pra-pemrosesan data, Anda akan mencoba memperhitungkan masalah yang paling serius.\n",
    " \n",
    "Proyek ini akan terdiri dari tiga tahap:\n",
    " 1. Ikhtisar Data\n",
    " 2. Pra-pemrosesan Data\n",
    " 3. Menguji Hipotesis\n",
    "\n",
    " \n",
    "[Kembali ke Daftar Isi](#back)"
   ]
  },
  {
   "cell_type": "markdown",
   "metadata": {
    "id": "Ml1hmfXC_Zcs"
   },
   "source": [
    "## Tahap 1. Ikhtisar Data <a id='data_review'></a>\n",
    "\n",
    "Buka data di Y.Music lalu jelajahi data yang ada di sana."
   ]
  },
  {
   "cell_type": "markdown",
   "metadata": {
    "id": "57eAOGIz_Zcs"
   },
   "source": [
    "Anda akan membutuhkan `Pandas`, jadi Anda harus mengimpornya."
   ]
  },
  {
   "cell_type": "code",
   "execution_count": 2,
   "metadata": {
    "id": "AXN7PHPN_Zcs"
   },
   "outputs": [],
   "source": [
    "# mengimpor Pandas\n",
    "import pandas as pd"
   ]
  },
  {
   "cell_type": "markdown",
   "metadata": {},
   "source": [
    "<div class=\"alert alert-success\">\n",
    "<b>Reviewer's comment v1</b> <a class=\"tocSkip\"></a>\n",
    "\n",
    "Bagus! `pandas` terimpor dengan benar, bahkan beserta singkatan yang umum dipakai.\n",
    "\n",
    "</div>"
   ]
  },
  {
   "cell_type": "markdown",
   "metadata": {
    "id": "SG23P8tt_Zcs"
   },
   "source": [
    "Baca file `music_project_en.csv` dari folder `/datasets/` lalu simpan di variabel `df`:"
   ]
  },
  {
   "cell_type": "code",
   "execution_count": 3,
   "metadata": {
    "id": "fFVu7vqh_Zct",
    "scrolled": true
   },
   "outputs": [
    {
     "data": {
      "text/html": [
       "<div>\n",
       "<style scoped>\n",
       "    .dataframe tbody tr th:only-of-type {\n",
       "        vertical-align: middle;\n",
       "    }\n",
       "\n",
       "    .dataframe tbody tr th {\n",
       "        vertical-align: top;\n",
       "    }\n",
       "\n",
       "    .dataframe thead th {\n",
       "        text-align: right;\n",
       "    }\n",
       "</style>\n",
       "<table border=\"1\" class=\"dataframe\">\n",
       "  <thead>\n",
       "    <tr style=\"text-align: right;\">\n",
       "      <th></th>\n",
       "      <th>userID</th>\n",
       "      <th>Track</th>\n",
       "      <th>artist</th>\n",
       "      <th>genre</th>\n",
       "      <th>City</th>\n",
       "      <th>time</th>\n",
       "      <th>Day</th>\n",
       "    </tr>\n",
       "  </thead>\n",
       "  <tbody>\n",
       "    <tr>\n",
       "      <th>count</th>\n",
       "      <td>65079</td>\n",
       "      <td>63736</td>\n",
       "      <td>57512</td>\n",
       "      <td>63881</td>\n",
       "      <td>65079</td>\n",
       "      <td>65079</td>\n",
       "      <td>65079</td>\n",
       "    </tr>\n",
       "    <tr>\n",
       "      <th>unique</th>\n",
       "      <td>41748</td>\n",
       "      <td>39666</td>\n",
       "      <td>37806</td>\n",
       "      <td>268</td>\n",
       "      <td>2</td>\n",
       "      <td>20392</td>\n",
       "      <td>3</td>\n",
       "    </tr>\n",
       "    <tr>\n",
       "      <th>top</th>\n",
       "      <td>A8AE9169</td>\n",
       "      <td>Brand</td>\n",
       "      <td>Kartvelli</td>\n",
       "      <td>pop</td>\n",
       "      <td>Springfield</td>\n",
       "      <td>21:51:22</td>\n",
       "      <td>Friday</td>\n",
       "    </tr>\n",
       "    <tr>\n",
       "      <th>freq</th>\n",
       "      <td>76</td>\n",
       "      <td>136</td>\n",
       "      <td>136</td>\n",
       "      <td>8850</td>\n",
       "      <td>45360</td>\n",
       "      <td>14</td>\n",
       "      <td>23149</td>\n",
       "    </tr>\n",
       "  </tbody>\n",
       "</table>\n",
       "</div>"
      ],
      "text/plain": [
       "          userID  Track     artist  genre       City        time     Day\n",
       "count      65079  63736      57512  63881        65079     65079   65079\n",
       "unique     41748  39666      37806    268            2     20392       3\n",
       "top     A8AE9169  Brand  Kartvelli    pop  Springfield  21:51:22  Friday\n",
       "freq          76    136        136   8850        45360        14   23149"
      ]
     },
     "execution_count": 3,
     "metadata": {},
     "output_type": "execute_result"
    }
   ],
   "source": [
    "# membaca berkas dan menyimpannya ke df\n",
    "df = pd.read_csv('/datasets/music_project_en.csv')\n",
    "df.describe()"
   ]
  },
  {
   "cell_type": "markdown",
   "metadata": {},
   "source": [
    "<div class=\"alert alert-success\">\n",
    "<b>Reviewer's comment v1</b> <a class=\"tocSkip\"></a>\n",
    "\n",
    "Penulisan direktori sudah benar dengan mencantumkan folder `/datasets/` serta penggunaan `describe()` untuk melihan informasi data secara cepat.\n",
    "\n",
    "</div>"
   ]
  },
  {
   "cell_type": "markdown",
   "metadata": {
    "id": "rDoOMd3uTqnZ"
   },
   "source": [
    "Tampilkan 10 baris tabel pertama:"
   ]
  },
  {
   "cell_type": "code",
   "execution_count": 4,
   "metadata": {
    "id": "oWTVX3gW_Zct",
    "scrolled": true
   },
   "outputs": [
    {
     "data": {
      "text/html": [
       "<div>\n",
       "<style scoped>\n",
       "    .dataframe tbody tr th:only-of-type {\n",
       "        vertical-align: middle;\n",
       "    }\n",
       "\n",
       "    .dataframe tbody tr th {\n",
       "        vertical-align: top;\n",
       "    }\n",
       "\n",
       "    .dataframe thead th {\n",
       "        text-align: right;\n",
       "    }\n",
       "</style>\n",
       "<table border=\"1\" class=\"dataframe\">\n",
       "  <thead>\n",
       "    <tr style=\"text-align: right;\">\n",
       "      <th></th>\n",
       "      <th>userID</th>\n",
       "      <th>Track</th>\n",
       "      <th>artist</th>\n",
       "      <th>genre</th>\n",
       "      <th>City</th>\n",
       "      <th>time</th>\n",
       "      <th>Day</th>\n",
       "    </tr>\n",
       "  </thead>\n",
       "  <tbody>\n",
       "    <tr>\n",
       "      <th>0</th>\n",
       "      <td>FFB692EC</td>\n",
       "      <td>Kamigata To Boots</td>\n",
       "      <td>The Mass Missile</td>\n",
       "      <td>rock</td>\n",
       "      <td>Shelbyville</td>\n",
       "      <td>20:28:33</td>\n",
       "      <td>Wednesday</td>\n",
       "    </tr>\n",
       "    <tr>\n",
       "      <th>1</th>\n",
       "      <td>55204538</td>\n",
       "      <td>Delayed Because of Accident</td>\n",
       "      <td>Andreas Rönnberg</td>\n",
       "      <td>rock</td>\n",
       "      <td>Springfield</td>\n",
       "      <td>14:07:09</td>\n",
       "      <td>Friday</td>\n",
       "    </tr>\n",
       "    <tr>\n",
       "      <th>2</th>\n",
       "      <td>20EC38</td>\n",
       "      <td>Funiculì funiculà</td>\n",
       "      <td>Mario Lanza</td>\n",
       "      <td>pop</td>\n",
       "      <td>Shelbyville</td>\n",
       "      <td>20:58:07</td>\n",
       "      <td>Wednesday</td>\n",
       "    </tr>\n",
       "    <tr>\n",
       "      <th>3</th>\n",
       "      <td>A3DD03C9</td>\n",
       "      <td>Dragons in the Sunset</td>\n",
       "      <td>Fire + Ice</td>\n",
       "      <td>folk</td>\n",
       "      <td>Shelbyville</td>\n",
       "      <td>08:37:09</td>\n",
       "      <td>Monday</td>\n",
       "    </tr>\n",
       "    <tr>\n",
       "      <th>4</th>\n",
       "      <td>E2DC1FAE</td>\n",
       "      <td>Soul People</td>\n",
       "      <td>Space Echo</td>\n",
       "      <td>dance</td>\n",
       "      <td>Springfield</td>\n",
       "      <td>08:34:34</td>\n",
       "      <td>Monday</td>\n",
       "    </tr>\n",
       "    <tr>\n",
       "      <th>5</th>\n",
       "      <td>842029A1</td>\n",
       "      <td>Chains</td>\n",
       "      <td>Obladaet</td>\n",
       "      <td>rusrap</td>\n",
       "      <td>Shelbyville</td>\n",
       "      <td>13:09:41</td>\n",
       "      <td>Friday</td>\n",
       "    </tr>\n",
       "    <tr>\n",
       "      <th>6</th>\n",
       "      <td>4CB90AA5</td>\n",
       "      <td>True</td>\n",
       "      <td>Roman Messer</td>\n",
       "      <td>dance</td>\n",
       "      <td>Springfield</td>\n",
       "      <td>13:00:07</td>\n",
       "      <td>Wednesday</td>\n",
       "    </tr>\n",
       "    <tr>\n",
       "      <th>7</th>\n",
       "      <td>F03E1C1F</td>\n",
       "      <td>Feeling This Way</td>\n",
       "      <td>Polina Griffith</td>\n",
       "      <td>dance</td>\n",
       "      <td>Springfield</td>\n",
       "      <td>20:47:49</td>\n",
       "      <td>Wednesday</td>\n",
       "    </tr>\n",
       "    <tr>\n",
       "      <th>8</th>\n",
       "      <td>8FA1D3BE</td>\n",
       "      <td>L’estate</td>\n",
       "      <td>Julia Dalia</td>\n",
       "      <td>ruspop</td>\n",
       "      <td>Springfield</td>\n",
       "      <td>09:17:40</td>\n",
       "      <td>Friday</td>\n",
       "    </tr>\n",
       "    <tr>\n",
       "      <th>9</th>\n",
       "      <td>E772D5C0</td>\n",
       "      <td>Pessimist</td>\n",
       "      <td>NaN</td>\n",
       "      <td>dance</td>\n",
       "      <td>Shelbyville</td>\n",
       "      <td>21:20:49</td>\n",
       "      <td>Wednesday</td>\n",
       "    </tr>\n",
       "  </tbody>\n",
       "</table>\n",
       "</div>"
      ],
      "text/plain": [
       "     userID                        Track            artist   genre  \\\n",
       "0  FFB692EC            Kamigata To Boots  The Mass Missile    rock   \n",
       "1  55204538  Delayed Because of Accident  Andreas Rönnberg    rock   \n",
       "2    20EC38            Funiculì funiculà       Mario Lanza     pop   \n",
       "3  A3DD03C9        Dragons in the Sunset        Fire + Ice    folk   \n",
       "4  E2DC1FAE                  Soul People        Space Echo   dance   \n",
       "5  842029A1                       Chains          Obladaet  rusrap   \n",
       "6  4CB90AA5                         True      Roman Messer   dance   \n",
       "7  F03E1C1F             Feeling This Way   Polina Griffith   dance   \n",
       "8  8FA1D3BE                     L’estate       Julia Dalia  ruspop   \n",
       "9  E772D5C0                    Pessimist               NaN   dance   \n",
       "\n",
       "        City        time        Day  \n",
       "0  Shelbyville  20:28:33  Wednesday  \n",
       "1  Springfield  14:07:09     Friday  \n",
       "2  Shelbyville  20:58:07  Wednesday  \n",
       "3  Shelbyville  08:37:09     Monday  \n",
       "4  Springfield  08:34:34     Monday  \n",
       "5  Shelbyville  13:09:41     Friday  \n",
       "6  Springfield  13:00:07  Wednesday  \n",
       "7  Springfield  20:47:49  Wednesday  \n",
       "8  Springfield  09:17:40     Friday  \n",
       "9  Shelbyville  21:20:49  Wednesday  "
      ]
     },
     "execution_count": 4,
     "metadata": {},
     "output_type": "execute_result"
    }
   ],
   "source": [
    "# memperoleh 10 baris pertama dari tabel df\n",
    "df.head(10)"
   ]
  },
  {
   "cell_type": "markdown",
   "metadata": {},
   "source": [
    "<div class=\"alert alert-warning\">\n",
    "<b>Reviewer's comment v1</b> <a class=\"tocSkip\"></a>\n",
    "\n",
    "`print()` sudah tidak diperlukan disini karena memang sudah merupakan baris terakhir d sel tersebut sehingga auto menampilkan outpunya.\n",
    "\n",
    "</div>"
   ]
  },
  {
   "cell_type": "markdown",
   "metadata": {
    "id": "EO73Kwic_Zct",
    "scrolled": true
   },
   "source": [
    "Memperoleh informasi umum tentang tabel dengan satu perintah:"
   ]
  },
  {
   "cell_type": "markdown",
   "metadata": {},
   "source": [
    "<div class=\"alert alert-warning\">\n",
    "<b>Reviewer's comment v1</b> <a class=\"tocSkip\"></a>\n",
    "\n",
    "Sepertinya ini seharusnya sebagai komen.\n",
    "\n",
    "</div>"
   ]
  },
  {
   "cell_type": "code",
   "execution_count": 5,
   "metadata": {
    "id": "DSf2kIb-_Zct",
    "scrolled": true
   },
   "outputs": [
    {
     "name": "stdout",
     "output_type": "stream",
     "text": [
      "<class 'pandas.core.frame.DataFrame'>\n",
      "RangeIndex: 65079 entries, 0 to 65078\n",
      "Data columns (total 7 columns):\n",
      " #   Column    Non-Null Count  Dtype \n",
      "---  ------    --------------  ----- \n",
      " 0     userID  65079 non-null  object\n",
      " 1   Track     63736 non-null  object\n",
      " 2   artist    57512 non-null  object\n",
      " 3   genre     63881 non-null  object\n",
      " 4     City    65079 non-null  object\n",
      " 5   time      65079 non-null  object\n",
      " 6   Day       65079 non-null  object\n",
      "dtypes: object(7)\n",
      "memory usage: 3.5+ MB\n"
     ]
    }
   ],
   "source": [
    "# memperoleh informasi umum tentang data di df\n",
    "df.info()"
   ]
  },
  {
   "cell_type": "markdown",
   "metadata": {},
   "source": [
    "<div class=\"alert alert-success\">\n",
    "<b>Reviewer's comment</b> <a class=\"tocSkip\"></a>\n",
    "\n",
    "Pilihan yang tepat menggunakan `info()` untuk menampilkan banyak informasi dari dataframe dengan efisien.\n",
    "\n",
    "</div>"
   ]
  },
  {
   "cell_type": "markdown",
   "metadata": {
    "id": "TaQ2Iwbr_Zct"
   },
   "source": [
    "Tabel ini berisi tujuh kolom. Semuanya menyimpan tipe data yang sama, yaitu: `objek`.\n",
    "\n",
    "Berdasarkan dokumentasi:\n",
    "- `'userID'` — pengenal pengguna\n",
    "- `'Track'` — judul trek\n",
    "- `'artist'` — nama artis\n",
    "- `'genre'`\n",
    "- `'City'` — kota tempat pengguna berada\n",
    "- `'time'` — lama waktu lagu tersebut dimainkan\n",
    "- `'Day'` — nama hari\n",
    "\n",
    "Kita dapat melihat tiga masalah dengan gaya penulisan nama kolom:\n",
    "1. Beberapa nama huruf besar, beberapa huruf kecil.\n",
    "2. Ada penggunaan spasi pada beberapa nama.\n",
    "3. Kolom artist diawali dengan huruf kapital\n",
    "\n",
    "Jumlah nilai kolom berbeda. Ini berarti data mengandung nilai yang hilang.\n"
   ]
  },
  {
   "cell_type": "markdown",
   "metadata": {
    "id": "MCB6-dXG_Zct"
   },
   "source": [
    "### Kesimpulan <a id='data_review_conclusions'></a> \n",
    "\n",
    "Setiap baris dalam tabel menyimpan data pada lagu yang dimainkan. Beberapa kolom menggambarkan lagu itu sendiri: judul, artis, dan genre. Sisanya menyampaikan informasi tentang pengguna: kota asal mereka, waktu mereka memutar lagu.\n",
    "\n",
    "Jelas bahwa data tersebut cukup untuk menguji hipotesis. Namun, ada nilai-nilai yang hilang.\n",
    "\n",
    "Selanjutnya, kita perlu melakukan pra-pemrosesan data terlebih dahulu."
   ]
  },
  {
   "cell_type": "markdown",
   "metadata": {
    "id": "3eL__vcwViOi"
   },
   "source": [
    "[Kembali ke Daftar Isi](#back)"
   ]
  },
  {
   "cell_type": "markdown",
   "metadata": {
    "id": "SjYF6Ub9_Zct"
   },
   "source": [
    "## Tahap 2. Pra-pemrosesan Data <a id='data_preprocessing'></a>\n",
    "Perbaiki format pada judul kolom dan atasi nilai yang hilang. Kemudian, periksa apakah ada duplikat dalam data."
   ]
  },
  {
   "cell_type": "markdown",
   "metadata": {
    "id": "dIaKXr29_Zct"
   },
   "source": [
    "### Gaya Penulisan Judul <a id='header_style'></a>\n",
    "Tampilkan judul kolom:\n"
   ]
  },
  {
   "cell_type": "code",
   "execution_count": 6,
   "metadata": {
    "id": "oKOTdF_Q_Zct"
   },
   "outputs": [
    {
     "data": {
      "text/plain": [
       "Index(['  userID', 'Track', 'artist', 'genre', '  City  ', 'time', 'Day'], dtype='object')"
      ]
     },
     "execution_count": 6,
     "metadata": {},
     "output_type": "execute_result"
    }
   ],
   "source": [
    "# daftar nama kolom di tabel df\n",
    "df.columns"
   ]
  },
  {
   "cell_type": "markdown",
   "metadata": {},
   "source": [
    "<div class=\"alert alert-warning\">\n",
    "<b>Reviewer's comment v1</b> <a class=\"tocSkip\"></a>\n",
    "\n",
    "Pengulangan dari sebelumnya bahwa `print()` sudah tidak diperlukan disini karena memang sudah merupakan baris terakhir d sel tersebut sehingga auto menampilkan outpunya.\n",
    "\n",
    "</div>"
   ]
  },
  {
   "cell_type": "markdown",
   "metadata": {
    "id": "zj5534cv_Zct"
   },
   "source": [
    "Ubah nama kolom sesuai dengan aturan gaya penulisan yang baik:\n",
    "* Jika nama memiliki beberapa kata, gunakan snake_case\n",
    "* Semua karakter harus menggunakan huruf kecil\n",
    "* Hapus spasi"
   ]
  },
  {
   "cell_type": "code",
   "execution_count": 7,
   "metadata": {
    "id": "ISlFqs5y_Zct"
   },
   "outputs": [],
   "source": [
    "# mengganti nama kolom\n",
    "df = df.rename(\n",
    "    columns={\n",
    "        '  userID': 'user_id',\n",
    "        'Track': 'track',\n",
    "       '  City  ': 'city',\n",
    "        'Day': 'day' \n",
    "    }\n",
    ")"
   ]
  },
  {
   "cell_type": "markdown",
   "metadata": {},
   "source": [
    "<div class=\"alert alert-success\">\n",
    "<b>Reviewer's comment v1</b> <a class=\"tocSkip\"></a>\n",
    "\n",
    "Semua berjalan dengan lancar.\n",
    "\n",
    "</div>"
   ]
  },
  {
   "cell_type": "markdown",
   "metadata": {
    "id": "1dqbh00J_Zct"
   },
   "source": [
    "Periksa hasilnya. Tampilkan nama kolom sekali lagi:"
   ]
  },
  {
   "cell_type": "code",
   "execution_count": 8,
   "metadata": {
    "id": "d4NOAmTW_Zct"
   },
   "outputs": [
    {
     "data": {
      "text/plain": [
       "Index(['user_id', 'track', 'artist', 'genre', 'city', 'time', 'day'], dtype='object')"
      ]
     },
     "execution_count": 8,
     "metadata": {},
     "output_type": "execute_result"
    }
   ],
   "source": [
    "# hasil pengecekan: daftar nama kolom\n",
    "df.columns"
   ]
  },
  {
   "cell_type": "markdown",
   "metadata": {},
   "source": [
    "<div class=\"alert alert-warning\">\n",
    "<b>Reviewer's comment v1</b> <a class=\"tocSkip\"></a>\n",
    "\n",
    "`print()` sudah tidak diperlukan disini karena memang sudah merupakan baris terakhir d sel tersebut sehingga auto menampilkan outpunya.\n",
    "\n",
    "</div>"
   ]
  },
  {
   "cell_type": "markdown",
   "metadata": {
    "id": "xYJk6ksJVpOl"
   },
   "source": [
    "[Kembali ke Daftar Isi](#back)"
   ]
  },
  {
   "cell_type": "markdown",
   "metadata": {
    "id": "5ISfbcfY_Zct"
   },
   "source": [
    "### Nilai-Nilai yang Hilang <a id='missing_values'></a>\n",
    "Pertama, temukan jumlah nilai yang hilang dalam tabel. Untuk melakukannya, gunakan dua metode `Pandas`:"
   ]
  },
  {
   "cell_type": "code",
   "execution_count": 9,
   "metadata": {
    "id": "RskX29qr_Zct"
   },
   "outputs": [
    {
     "data": {
      "text/plain": [
       "user_id       0\n",
       "track      1343\n",
       "artist     7567\n",
       "genre      1198\n",
       "city          0\n",
       "time          0\n",
       "day           0\n",
       "dtype: int64"
      ]
     },
     "execution_count": 9,
     "metadata": {},
     "output_type": "execute_result"
    }
   ],
   "source": [
    "# menghitung nilai yang hilang\n",
    "df.isna().sum()"
   ]
  },
  {
   "cell_type": "markdown",
   "metadata": {},
   "source": [
    "<div class=\"alert alert-warning\">\n",
    "<b>Reviewer's comment v1</b> <a class=\"tocSkip\"></a>\n",
    "\n",
    "Sama dengan sebelumnya `print()` sudah tidak diperlukan disini karena memang sudah merupakan baris terakhir d sel tersebut sehingga auto menampilkan outpunya.\n",
    "\n",
    "</div>"
   ]
  },
  {
   "cell_type": "markdown",
   "metadata": {
    "id": "qubhgnlO_Zct"
   },
   "source": [
    "Tidak semua nilai yang hilang berpengaruh terhadap penelitian. Misalnya, nilai yang hilang dalam `track` dan `artist` tidak begitu penting. Anda cukup menggantinya dengan tanda yang jelas.\n",
    "\n",
    "Namun nilai yang hilang dalam `'genre'` dapat memengaruhi perbandingan preferensi musik di Springfield dan Shelbyville. Dalam kehidupan nyata, ini akan berguna untuk mempelajari alasan mengapa data tersebut hilang dan mencoba memperbaikinya. Tetapi kita tidak memiliki kesempatan itu dalam proyek ini. Jadi Anda harus:\n",
    "* Isi nilai yang hilang ini dengan sebuah tanda\n",
    "* Evaluasi seberapa besar nilai yang hilang dapat memengaruhi perhitungan Anda"
   ]
  },
  {
   "cell_type": "markdown",
   "metadata": {
    "id": "fSv2laPA_Zct"
   },
   "source": [
    "Ganti nilai yang hilang pada `'track'`, `'artist'`, dan `'genre'` dengan string `'unknown'`. Untuk melakukannya, buat list `columns_to_replace`, lakukan *loop* dengan `for`, dan ganti nilai yang hilang di setiap kolom:"
   ]
  },
  {
   "cell_type": "code",
   "execution_count": 10,
   "metadata": {
    "id": "KplB5qWs_Zct"
   },
   "outputs": [
    {
     "name": "stdout",
     "output_type": "stream",
     "text": [
      "        user_id                              track            artist  \\\n",
      "0      FFB692EC                  Kamigata To Boots  The Mass Missile   \n",
      "1      55204538        Delayed Because of Accident  Andreas Rönnberg   \n",
      "2        20EC38                  Funiculì funiculà       Mario Lanza   \n",
      "3      A3DD03C9              Dragons in the Sunset        Fire + Ice   \n",
      "4      E2DC1FAE                        Soul People        Space Echo   \n",
      "...         ...                                ...               ...   \n",
      "65074  729CBB09                            My Name            McLean   \n",
      "65075  D08D4A55  Maybe One Day (feat. Black Spade)       Blu & Exile   \n",
      "65076  C5E3A0D5                          Jalopiina           unknown   \n",
      "65077  321D0506                      Freight Train     Chas McDevitt   \n",
      "65078  3A64EF84          Tell Me Sweet Little Lies      Monica Lopez   \n",
      "\n",
      "            genre         city      time        day  \n",
      "0            rock  Shelbyville  20:28:33  Wednesday  \n",
      "1            rock  Springfield  14:07:09     Friday  \n",
      "2             pop  Shelbyville  20:58:07  Wednesday  \n",
      "3            folk  Shelbyville  08:37:09     Monday  \n",
      "4           dance  Springfield  08:34:34     Monday  \n",
      "...           ...          ...       ...        ...  \n",
      "65074         rnb  Springfield  13:32:28  Wednesday  \n",
      "65075         hip  Shelbyville  10:00:00     Monday  \n",
      "65076  industrial  Springfield  20:09:26     Friday  \n",
      "65077        rock  Springfield  21:43:59     Friday  \n",
      "65078     country  Springfield  21:59:46     Friday  \n",
      "\n",
      "[65079 rows x 7 columns]\n"
     ]
    }
   ],
   "source": [
    "# loop nama kolom dan ganti nilai yang hilang dengan 'unknown'\n",
    "columns_to_replace = ['track', 'artist', 'genre']\n",
    "\n",
    "for row in df:\n",
    "        df[columns_to_replace] = df[columns_to_replace].fillna('unknown') \n",
    "        \n",
    "print(df)"
   ]
  },
  {
   "cell_type": "markdown",
   "metadata": {},
   "source": [
    "<div class=\"alert alert-success\">\n",
    "<b>Reviewer's comment v1</b> <a class=\"tocSkip\"></a>\n",
    "\n",
    "Looping berjalan dengan lancar, penggantian nilai berjalan tanpa masalah. Sebagai pengingat lagi bahwa `print()` tidak diperlukan.\n",
    "\n",
    "</div>"
   ]
  },
  {
   "cell_type": "markdown",
   "metadata": {
    "id": "Ilsm-MZo_Zct"
   },
   "source": [
    "Pastikan tidak ada tabel lagi yang berisi nilai yang hilang. Hitung kembali nilai yang hilang."
   ]
  },
  {
   "cell_type": "code",
   "execution_count": 11,
   "metadata": {
    "id": "Tq4nYRX4_Zct",
    "scrolled": true
   },
   "outputs": [
    {
     "data": {
      "text/plain": [
       "user_id    0\n",
       "track      0\n",
       "artist     0\n",
       "genre      0\n",
       "city       0\n",
       "time       0\n",
       "day        0\n",
       "dtype: int64"
      ]
     },
     "execution_count": 11,
     "metadata": {},
     "output_type": "execute_result"
    }
   ],
   "source": [
    "# menghitung nilai yang hilang\n",
    "df.isna().sum()"
   ]
  },
  {
   "cell_type": "markdown",
   "metadata": {},
   "source": [
    "<div class=\"alert alert-warning\">\n",
    "<b>Reviewer's comment v1</b> <a class=\"tocSkip\"></a>\n",
    "\n",
    "`print()` sudah tidak diperlukan disini karena memang sudah merupakan baris terakhir d sel tersebut sehingga auto menampilkan outpunya.\n",
    "\n",
    "</div>"
   ]
  },
  {
   "cell_type": "markdown",
   "metadata": {
    "id": "74ZIBmq9VrsK"
   },
   "source": [
    "[Kembali ke Daftar Isi](#back)"
   ]
  },
  {
   "cell_type": "markdown",
   "metadata": {
    "id": "BWKRtBJ3_Zct"
   },
   "source": [
    "### Duplikat <a id='duplicates'></a>\n",
    "Temukan jumlah duplikat yang jelas dalam tabel menggunakan satu perintah:"
   ]
  },
  {
   "cell_type": "code",
   "execution_count": 12,
   "metadata": {
    "id": "36eES_S0_Zct"
   },
   "outputs": [
    {
     "data": {
      "text/plain": [
       "3826"
      ]
     },
     "execution_count": 12,
     "metadata": {},
     "output_type": "execute_result"
    }
   ],
   "source": [
    "# menghitung duplikat yang jelas\n",
    "df.duplicated().sum()"
   ]
  },
  {
   "cell_type": "markdown",
   "metadata": {},
   "source": [
    "<div class=\"alert alert-success\">\n",
    "<b>Reviewer's comment v1</b> <a class=\"tocSkip\"></a>\n",
    "\n",
    "Perhitungan duplikat sudah dilakukan secara benar dan efisien. Dan lagi `print()` tidak perlu digunakan.\n",
    "\n",
    "</div>"
   ]
  },
  {
   "cell_type": "markdown",
   "metadata": {
    "id": "Ot25h6XR_Zct"
   },
   "source": [
    "Panggil metode `Pandas` untuk menghapus duplikat yang jelas:"
   ]
  },
  {
   "cell_type": "code",
   "execution_count": 13,
   "metadata": {
    "id": "exFHq6tt_Zct"
   },
   "outputs": [],
   "source": [
    "# menghapus duplikat yang jelas\n",
    "df = df.drop_duplicates() "
   ]
  },
  {
   "cell_type": "markdown",
   "metadata": {
    "id": "Im2YwBEG_Zct"
   },
   "source": [
    "Hitung duplikat yang jelas sekali lagi untuk memastikan Anda telah menghapus semuanya:"
   ]
  },
  {
   "cell_type": "code",
   "execution_count": 14,
   "metadata": {
    "id": "-8PuNWQ0_Zct",
    "scrolled": true
   },
   "outputs": [
    {
     "data": {
      "text/plain": [
       "0"
      ]
     },
     "execution_count": 14,
     "metadata": {},
     "output_type": "execute_result"
    }
   ],
   "source": [
    "# memeriksa duplikat\n",
    "df.duplicated().sum()"
   ]
  },
  {
   "cell_type": "markdown",
   "metadata": {},
   "source": [
    "<div class=\"alert alert-warning\">\n",
    "<b>Reviewer's comment v1</b> <a class=\"tocSkip\"></a>\n",
    "\n",
    "`print()` sudah tidak diperlukan disini karena memang sudah merupakan baris terakhir d sel tersebut sehingga auto menampilkan outpunya.\n",
    "\n",
    "</div>"
   ]
  },
  {
   "cell_type": "markdown",
   "metadata": {
    "id": "QlFBsxAr_Zct"
   },
   "source": [
    "Sekarang hapus duplikat implisit di kolom `genre`. Misalnya, nama genre dapat ditulis dengan cara yang berbeda. Kesalahan seperti ini juga akan memengaruhi hasil."
   ]
  },
  {
   "cell_type": "markdown",
   "metadata": {
    "id": "eSjWwsOh_Zct"
   },
   "source": [
    "Tampilkan daftar nama genre yang unik, urutkan berdasarkan abjad. Untuk melakukannya:\n",
    "* Ambil kolom DataFrame yang dimaksud\n",
    "* Terapkan metode pengurutan untuk itu\n",
    "* Untuk kolom yang diurutkan, panggil metode yang akan menghasilkan semua nilai kolom yang unik"
   ]
  },
  {
   "cell_type": "code",
   "execution_count": 15,
   "metadata": {
    "id": "JIUcqzZN_Zct",
    "scrolled": true
   },
   "outputs": [
    {
     "data": {
      "text/plain": [
       "array(['acid', 'acoustic', 'action', 'adult', 'africa', 'afrikaans',\n",
       "       'alternative', 'ambient', 'americana', 'animated', 'anime',\n",
       "       'arabesk', 'arabic', 'arena', 'argentinetango', 'art', 'audiobook',\n",
       "       'avantgarde', 'axé', 'baile', 'balkan', 'beats', 'bigroom',\n",
       "       'black', 'bluegrass', 'blues', 'bollywood', 'bossa', 'brazilian',\n",
       "       'breakbeat', 'breaks', 'broadway', 'cantautori', 'cantopop',\n",
       "       'canzone', 'caribbean', 'caucasian', 'celtic', 'chamber',\n",
       "       'children', 'chill', 'chinese', 'choral', 'christian', 'christmas',\n",
       "       'classical', 'classicmetal', 'club', 'colombian', 'comedy',\n",
       "       'conjazz', 'contemporary', 'country', 'cuban', 'dance',\n",
       "       'dancehall', 'dancepop', 'dark', 'death', 'deep', 'deutschrock',\n",
       "       'deutschspr', 'dirty', 'disco', 'dnb', 'documentary', 'downbeat',\n",
       "       'downtempo', 'drum', 'dub', 'dubstep', 'eastern', 'easy',\n",
       "       'electronic', 'electropop', 'emo', 'entehno', 'epicmetal',\n",
       "       'estrada', 'ethnic', 'eurofolk', 'european', 'experimental',\n",
       "       'extrememetal', 'fado', 'film', 'fitness', 'flamenco', 'folk',\n",
       "       'folklore', 'folkmetal', 'folkrock', 'folktronica', 'forró',\n",
       "       'frankreich', 'französisch', 'french', 'funk', 'future', 'gangsta',\n",
       "       'garage', 'german', 'ghazal', 'gitarre', 'glitch', 'gospel',\n",
       "       'gothic', 'grime', 'grunge', 'gypsy', 'handsup', \"hard'n'heavy\",\n",
       "       'hardcore', 'hardstyle', 'hardtechno', 'hip', 'hip-hop', 'hiphop',\n",
       "       'historisch', 'holiday', 'hop', 'horror', 'house', 'idm',\n",
       "       'independent', 'indian', 'indie', 'indipop', 'industrial',\n",
       "       'inspirational', 'instrumental', 'international', 'irish', 'jam',\n",
       "       'japanese', 'jazz', 'jewish', 'jpop', 'jungle', 'k-pop',\n",
       "       'karadeniz', 'karaoke', 'kayokyoku', 'korean', 'laiko', 'latin',\n",
       "       'latino', 'leftfield', 'local', 'lounge', 'loungeelectronic',\n",
       "       'lovers', 'malaysian', 'mandopop', 'marschmusik', 'meditative',\n",
       "       'mediterranean', 'melodic', 'metal', 'metalcore', 'mexican',\n",
       "       'middle', 'minimal', 'miscellaneous', 'modern', 'mood', 'mpb',\n",
       "       'muslim', 'native', 'neoklassik', 'neue', 'new', 'newage',\n",
       "       'newwave', 'nu', 'nujazz', 'numetal', 'oceania', 'old', 'opera',\n",
       "       'orchestral', 'other', 'piano', 'pop', 'popelectronic',\n",
       "       'popeurodance', 'post', 'posthardcore', 'postrock', 'power',\n",
       "       'progmetal', 'progressive', 'psychedelic', 'punjabi', 'punk',\n",
       "       'quebecois', 'ragga', 'ram', 'rancheras', 'rap', 'rave', 'reggae',\n",
       "       'reggaeton', 'regional', 'relax', 'religious', 'retro', 'rhythm',\n",
       "       'rnb', 'rnr', 'rock', 'rockabilly', 'romance', 'roots', 'ruspop',\n",
       "       'rusrap', 'rusrock', 'salsa', 'samba', 'schlager', 'self',\n",
       "       'sertanejo', 'shoegazing', 'showtunes', 'singer', 'ska', 'slow',\n",
       "       'smooth', 'soul', 'soulful', 'sound', 'soundtrack', 'southern',\n",
       "       'specialty', 'speech', 'spiritual', 'sport', 'stonerrock', 'surf',\n",
       "       'swing', 'synthpop', 'sängerportrait', 'tango', 'tanzorchester',\n",
       "       'taraftar', 'tech', 'techno', 'thrash', 'top', 'traditional',\n",
       "       'tradjazz', 'trance', 'tribal', 'trip', 'triphop', 'tropical',\n",
       "       'türk', 'türkçe', 'unknown', 'urban', 'uzbek', 'variété', 'vi',\n",
       "       'videogame', 'vocal', 'western', 'world', 'worldbeat', 'ïîï'],\n",
       "      dtype=object)"
      ]
     },
     "execution_count": 15,
     "metadata": {},
     "output_type": "execute_result"
    }
   ],
   "source": [
    "# melihat nama genre yang unik\n",
    "df['genre'].sort_values().unique()"
   ]
  },
  {
   "cell_type": "markdown",
   "metadata": {},
   "source": [
    "<div class=\"alert alert-danger\">\n",
    "<b>Reviewer's comment v1</b> <a class=\"tocSkip\"></a>\n",
    "\n",
    "Masih terdapat nilai yang duplikat atau tidak unik.\n",
    "\n",
    "</div>"
   ]
  },
  {
   "cell_type": "markdown",
   "metadata": {},
   "source": [
    "<div class=\"alert alert-success\">\n",
    "<b>Reviewer's comment v2</b> <a class=\"tocSkip\"></a>\n",
    "\n",
    "Masalah sudah teratasi dengan baik.\n",
    "\n",
    "</div>"
   ]
  },
  {
   "cell_type": "markdown",
   "metadata": {
    "id": "qej-Qmuo_Zct"
   },
   "source": [
    "Lihat melalui *list* untuk menemukan duplikat implisit dari genre `hiphop`. Ini bisa berupa nama yang ditulis secara salah atau nama alternatif dari genre yang sama.\n",
    "\n",
    "Anda akan melihat duplikat implisit berikut:\n",
    "* `hip`\n",
    "* `hop`\n",
    "* `hip-hop`\n",
    "\n",
    "Untuk menghapusnya, gunakan fungsi `replace_wrong_genres()` dengan dua parameter:\n",
    "* `wrong_genres=` — daftar duplikat\n",
    "* `correct_genre=` — string dengan nilai yang benar\n",
    "\n",
    "Fungsi harus mengoreksi nama dalam kolom `'genre'` dari tabel `df`, yaitu mengganti setiap nilai dari daftar `wrong_genres` dengan nilai dalam `correct_genre`."
   ]
  },
  {
   "cell_type": "code",
   "execution_count": 16,
   "metadata": {
    "id": "ErNDkmns_Zct"
   },
   "outputs": [],
   "source": [
    "# fungsi untuk mengganti duplikat implisit\n",
    "def replace_wrong_genre(wrong_genres, correct_genre): \n",
    "    for wrong_genre in wrong_genres: \n",
    "        df['genre'] = df['genre'].replace(wrong_genres, correct_genre)"
   ]
  },
  {
   "cell_type": "markdown",
   "metadata": {},
   "source": [
    "<div class=\"alert alert-success\">\n",
    "<b>Reviewer's comment v1</b> <a class=\"tocSkip\"></a>\n",
    "\n",
    "Fungsi terdefinisi dengan benar.\n",
    "\n",
    "</div>"
   ]
  },
  {
   "cell_type": "markdown",
   "metadata": {
    "id": "aDoBJxbA_Zct"
   },
   "source": [
    "Panggil `replace_wrong_genres()` dan berikan argumennya sehingga menghapus duplikat implisit (`hip`, `hop`, dan `hip-hop`) dan menggantinya dengan `hiphop`:"
   ]
  },
  {
   "cell_type": "code",
   "execution_count": 17,
   "metadata": {
    "id": "YN5i2hpmSo09"
   },
   "outputs": [],
   "source": [
    "# menghapus duplikat implisit\n",
    "duplicates = ['hip', 'hop', 'hip-hop']\n",
    "right_genre = 'hiphop'\n",
    "replace_wrong_genre(duplicates, right_genre)"
   ]
  },
  {
   "cell_type": "markdown",
   "metadata": {},
   "source": [
    "<div class=\"alert alert-success\">\n",
    "<b>Reviewer's comment v1</b> <a class=\"tocSkip\"></a>\n",
    "\n",
    "Tidak ada error. Sepertinya drop_duplicate tidak diperlukan lagi\n",
    "\n",
    "</div>"
   ]
  },
  {
   "cell_type": "markdown",
   "metadata": {
    "id": "zQKF16_RG15m"
   },
   "source": [
    "Pastikan nama duplikat telah dihapus. Tampilkan daftar nilai unik dari kolom `'genre'`:"
   ]
  },
  {
   "cell_type": "code",
   "execution_count": 18,
   "metadata": {
    "id": "wvixALnFG15m"
   },
   "outputs": [
    {
     "data": {
      "text/plain": [
       "array(['acid', 'acoustic', 'action', 'adult', 'africa', 'afrikaans',\n",
       "       'alternative', 'ambient', 'americana', 'animated', 'anime',\n",
       "       'arabesk', 'arabic', 'arena', 'argentinetango', 'art', 'audiobook',\n",
       "       'avantgarde', 'axé', 'baile', 'balkan', 'beats', 'bigroom',\n",
       "       'black', 'bluegrass', 'blues', 'bollywood', 'bossa', 'brazilian',\n",
       "       'breakbeat', 'breaks', 'broadway', 'cantautori', 'cantopop',\n",
       "       'canzone', 'caribbean', 'caucasian', 'celtic', 'chamber',\n",
       "       'children', 'chill', 'chinese', 'choral', 'christian', 'christmas',\n",
       "       'classical', 'classicmetal', 'club', 'colombian', 'comedy',\n",
       "       'conjazz', 'contemporary', 'country', 'cuban', 'dance',\n",
       "       'dancehall', 'dancepop', 'dark', 'death', 'deep', 'deutschrock',\n",
       "       'deutschspr', 'dirty', 'disco', 'dnb', 'documentary', 'downbeat',\n",
       "       'downtempo', 'drum', 'dub', 'dubstep', 'eastern', 'easy',\n",
       "       'electronic', 'electropop', 'emo', 'entehno', 'epicmetal',\n",
       "       'estrada', 'ethnic', 'eurofolk', 'european', 'experimental',\n",
       "       'extrememetal', 'fado', 'film', 'fitness', 'flamenco', 'folk',\n",
       "       'folklore', 'folkmetal', 'folkrock', 'folktronica', 'forró',\n",
       "       'frankreich', 'französisch', 'french', 'funk', 'future', 'gangsta',\n",
       "       'garage', 'german', 'ghazal', 'gitarre', 'glitch', 'gospel',\n",
       "       'gothic', 'grime', 'grunge', 'gypsy', 'handsup', \"hard'n'heavy\",\n",
       "       'hardcore', 'hardstyle', 'hardtechno', 'hiphop', 'historisch',\n",
       "       'holiday', 'horror', 'house', 'idm', 'independent', 'indian',\n",
       "       'indie', 'indipop', 'industrial', 'inspirational', 'instrumental',\n",
       "       'international', 'irish', 'jam', 'japanese', 'jazz', 'jewish',\n",
       "       'jpop', 'jungle', 'k-pop', 'karadeniz', 'karaoke', 'kayokyoku',\n",
       "       'korean', 'laiko', 'latin', 'latino', 'leftfield', 'local',\n",
       "       'lounge', 'loungeelectronic', 'lovers', 'malaysian', 'mandopop',\n",
       "       'marschmusik', 'meditative', 'mediterranean', 'melodic', 'metal',\n",
       "       'metalcore', 'mexican', 'middle', 'minimal', 'miscellaneous',\n",
       "       'modern', 'mood', 'mpb', 'muslim', 'native', 'neoklassik', 'neue',\n",
       "       'new', 'newage', 'newwave', 'nu', 'nujazz', 'numetal', 'oceania',\n",
       "       'old', 'opera', 'orchestral', 'other', 'piano', 'pop',\n",
       "       'popelectronic', 'popeurodance', 'post', 'posthardcore',\n",
       "       'postrock', 'power', 'progmetal', 'progressive', 'psychedelic',\n",
       "       'punjabi', 'punk', 'quebecois', 'ragga', 'ram', 'rancheras', 'rap',\n",
       "       'rave', 'reggae', 'reggaeton', 'regional', 'relax', 'religious',\n",
       "       'retro', 'rhythm', 'rnb', 'rnr', 'rock', 'rockabilly', 'romance',\n",
       "       'roots', 'ruspop', 'rusrap', 'rusrock', 'salsa', 'samba',\n",
       "       'schlager', 'self', 'sertanejo', 'shoegazing', 'showtunes',\n",
       "       'singer', 'ska', 'slow', 'smooth', 'soul', 'soulful', 'sound',\n",
       "       'soundtrack', 'southern', 'specialty', 'speech', 'spiritual',\n",
       "       'sport', 'stonerrock', 'surf', 'swing', 'synthpop',\n",
       "       'sängerportrait', 'tango', 'tanzorchester', 'taraftar', 'tech',\n",
       "       'techno', 'thrash', 'top', 'traditional', 'tradjazz', 'trance',\n",
       "       'tribal', 'trip', 'triphop', 'tropical', 'türk', 'türkçe',\n",
       "       'unknown', 'urban', 'uzbek', 'variété', 'vi', 'videogame', 'vocal',\n",
       "       'western', 'world', 'worldbeat', 'ïîï'], dtype=object)"
      ]
     },
     "execution_count": 18,
     "metadata": {},
     "output_type": "execute_result"
    }
   ],
   "source": [
    "# memeriksa duplikat implisit\n",
    "df['genre'].sort_values().unique()"
   ]
  },
  {
   "cell_type": "markdown",
   "metadata": {},
   "source": [
    "<div class=\"alert alert-warning\">\n",
    "<b>Reviewer's comment v1</b> <a class=\"tocSkip\"></a>\n",
    "\n",
    "Sama halnya dengan bagian sebelumnya, `print()` tidak diperlukan dan daftar genre yang unik dan berurutan sudah didapatkan. Namun alangkah lebih baiknya untuk mengurutkan nilai di dataframe menggunakan metode `sort_values()` sehingga seperti ini `df['genre'].sort_values().unique()`.\n",
    "\n",
    "</div>"
   ]
  },
  {
   "cell_type": "markdown",
   "metadata": {
    "id": "ALgNbvF3VtPA"
   },
   "source": [
    "[Kembali ke Daftar Isi](#back)"
   ]
  },
  {
   "cell_type": "markdown",
   "metadata": {
    "id": "jz6a9-7HQUDd"
   },
   "source": [
    "### Kesimpulan <a id='data_preprocessing_conclusions'></a>\n",
    "Kita mendeteksi tiga masalah dengan data:\n",
    "\n",
    "- Gaya penulisan judul yang salah\n",
    "- Nilai-nilai yang hilang\n",
    "- Duplikat yang jelas dan implisit\n",
    "\n",
    "Judul telah dibersihkan untuk mempermudah pemrosesan tabel.\n",
    "\n",
    "Semua nilai yang hilang telah diganti dengan `'unknown'`. Tapi kita masih harus melihat apakah nilai yang hilang dalam `'genre'` akan memengaruhi perhitungan kita.\n",
    "\n",
    "Tidak adanya duplikat akan membuat hasil lebih tepat dan lebih mudah dipahami.\n",
    "\n",
    "Sekarang kita dapat melanjutkan ke pengujian hipotesis."
   ]
  },
  {
   "cell_type": "markdown",
   "metadata": {
    "id": "eK1es74rVujj"
   },
   "source": [
    "[Kembali ke Daftar Isi](#back)"
   ]
  },
  {
   "cell_type": "markdown",
   "metadata": {
    "id": "WttZHXH0SqKk"
   },
   "source": [
    "## Tahap 3. Menguji Hipotesis <a id='hypotheses'></a>"
   ]
  },
  {
   "cell_type": "markdown",
   "metadata": {
    "id": "Im936VVi_Zcu"
   },
   "source": [
    "### Hipotesis 1: Membandingkan Perilaku Pengguna di Dua Kota <a id='activity'></a>"
   ]
  },
  {
   "cell_type": "markdown",
   "metadata": {
    "id": "nwt_MuaL_Zcu"
   },
   "source": [
    "Menurut hipotesis pertama, pengguna dari Springfield dan Shelbyville memiliki perbedaan dalam mendengarkan musik. Pengujian ini menggunakan data pada hari: Senin, Rabu, dan Jumat.\n",
    "\n",
    "* Pisahkan pengguna ke dalam kelompok berdasarkan kota.\n",
    "* Bandingkan berapa banyak lagu yang dimainkan setiap kelompok pada hari Senin, Rabu, dan Jumat."
   ]
  },
  {
   "cell_type": "markdown",
   "metadata": {
    "id": "8Dw_YMmT_Zcu"
   },
   "source": [
    "Untuk latihan, lakukan setiap perhitungan secara terpisah.\n",
    "\n",
    "Evaluasi aktivitas pengguna di setiap kota. Kelompokkan data berdasarkan kota dan temukan jumlah lagu yang diputar di setiap kelompok.\n",
    "\n"
   ]
  },
  {
   "cell_type": "code",
   "execution_count": 19,
   "metadata": {
    "id": "0_Qs96oh_Zcu",
    "scrolled": true
   },
   "outputs": [
    {
     "data": {
      "text/plain": [
       "city\n",
       "Shelbyville    18512\n",
       "Springfield    42741\n",
       "Name: user_id, dtype: int64"
      ]
     },
     "execution_count": 19,
     "metadata": {},
     "output_type": "execute_result"
    }
   ],
   "source": [
    "# Menghitung lagu yang diputar di setiap kota\n",
    "group_city = df.groupby('city')['user_id'].count()\n",
    "group_city"
   ]
  },
  {
   "cell_type": "markdown",
   "metadata": {},
   "source": [
    "<div class=\"alert alert-danger\">\n",
    "<b>Reviewer's comment v1</b> <a class=\"tocSkip\"></a>\n",
    "\n",
    "Hanya diperlukan satu kolom saja yang digunakan dalam pengelompokkan agar informasi terkait aktivitas pengguna di setiap kota diatas lebih mudah dipahami.\n",
    "\n",
    "</div>"
   ]
  },
  {
   "cell_type": "markdown",
   "metadata": {},
   "source": [
    "<div class=\"alert alert-warning\">\n",
    "<b>Reviewer's comment v2</b> <a class=\"tocSkip\"></a>\n",
    "\n",
    "`print()` tidak diperlukan disini.\n",
    "\n",
    "</div>"
   ]
  },
  {
   "cell_type": "markdown",
   "metadata": {
    "id": "dzli3w8o_Zcu"
   },
   "source": [
    "Springfield memiliki lebih banyak lagu yang dimainkan daripada Shelbyville. Namun bukan berarti warga Springfield lebih sering mendengarkan musik. Kota ini lebih besar, dan memiliki lebih banyak pengguna.\n",
    "\n",
    "Sekarang kelompokkan data menurut hari dan temukan jumlah lagu yang diputar pada hari Senin, Rabu, dan Jumat."
   ]
  },
  {
   "cell_type": "code",
   "execution_count": 20,
   "metadata": {
    "id": "uZMKjiJz_Zcu",
    "scrolled": true
   },
   "outputs": [
    {
     "data": {
      "text/plain": [
       "day\n",
       "Friday       21840\n",
       "Monday       21354\n",
       "Wednesday    18059\n",
       "Name: user_id, dtype: int64"
      ]
     },
     "execution_count": 20,
     "metadata": {},
     "output_type": "execute_result"
    }
   ],
   "source": [
    "# Menghitung trek yang diputar pada masing-masing hari\n",
    "group_day = df.groupby('day')['user_id'].count()\n",
    "group_day"
   ]
  },
  {
   "cell_type": "markdown",
   "metadata": {},
   "source": [
    "<div class=\"alert alert-danger\">\n",
    "<b>Reviewer's comment v1</b> <a class=\"tocSkip\"></a>\n",
    "\n",
    "Sama seperti sebelumnya hanya diperlukan satu kolom saja yang digunakan dalam pengelompokkan agar informasi terkait aktivitas pengguna di setiap kota diatas lebih mudah dipahami.\n",
    "\n",
    "</div>"
   ]
  },
  {
   "cell_type": "markdown",
   "metadata": {},
   "source": [
    "<div class=\"alert alert-warning\">\n",
    "<b>Reviewer's comment v2</b> <a class=\"tocSkip\"></a>\n",
    "\n",
    "`print()` tidak diperlukan untuk menampilkan output apabila sudah berada di baris terakhir di sebuah sel.\n",
    "\n",
    "</div>"
   ]
  },
  {
   "cell_type": "markdown",
   "metadata": {
    "id": "cC2tNrlL_Zcu"
   },
   "source": [
    "Rabu adalah hari paling tenang secara keseluruhan. Tetapi jika kita mempertimbangkan kedua kota secara terpisah, kita mungkin akan memiliki kesimpulan yang berbeda."
   ]
  },
  {
   "cell_type": "markdown",
   "metadata": {
    "id": "POzs8bGa_Zcu"
   },
   "source": [
    "Anda telah melihat cara kerja pengelompokan berdasarkan kota atau hari. Sekarang tulis fungsi yang akan dikelompokkan berdasarkan keduanya.\n",
    "\n",
    "Buat fungsi `number_tracks()` untuk menghitung jumlah lagu yang diputar untuk hari dan kota tertentu. Ini akan membutuhkan dua parameter:\n",
    "* nama hari\n",
    "* nama kota\n",
    "\n",
    "Dalam fungsi, gunakan variabel untuk menyimpan baris dari tabel asli, di mana:\n",
    "  *  Nilai kolom `'day'` sama dengan parameter `day`\n",
    "  * Nilai kolom `'city'` sama dengan parameter `city`\n",
    "\n",
    "Terapkan pemfilteran berurutan dengan pengindeksan logis.\n",
    "\n",
    "Kemudian hitung nilai kolom `'user_id'` pada tabel yang dihasilkan. Simpan hasilnya ke variabel baru. Kembalikan variabel ini dari fungsi."
   ]
  },
  {
   "cell_type": "code",
   "execution_count": 23,
   "metadata": {
    "id": "Nz3GdQB1_Zcu"
   },
   "outputs": [],
   "source": [
    "# <membuat fungsi number_tracks()>\n",
    "# Kita akan mendeklarasikan sebuah fungsi dengan dua parameter: day=, city=.\n",
    "# Biarkan variabel track_list menyimpan baris df di mana\n",
    "# nilai di kolom 'day' sama dengan parameter day= dan, pada saat yang sama,\n",
    "# nilai pada kolom 'city' sama dengan parameter city= (terapkan pemfilteran berurutan\n",
    "# dengan pengindeksan logis).\n",
    "# Biarkan variabel track_list_count menyimpan jumlah nilai kolom 'user_id' pada track_list\n",
    "# (temukan dengan metode count()).\n",
    "# Biarkan fungsi menghasilkan jumlah: nilai track_list_count.\n",
    "\n",
    "# Fungsi menghitung lagu yang diputar untuk kota dan hari tertentu.\n",
    "# Pertama-tama ini akan mengambil baris dengan hari yang diinginkan dari tabel,\n",
    "# kemudian memfilter baris hasilnya dengan kota yang dimaksud,\n",
    "# kemudian temukan jumlah nilai 'user_id' pada tabel yang difilter,\n",
    "# kemudian menghasilkan jumlah tersebut.\n",
    "# Untuk melihat apa yang dihasilkan, kemas pemanggilan fungsi pada print().\n",
    "\n",
    "\n",
    "def number_tracks(data, day, city):\n",
    "        track_list = data.loc[(data['day'] == day) & (data['city'] == city)]\n",
    "        track_list_count = track_list['user_id'].count()\n",
    "        print(track_list_count)"
   ]
  },
  {
   "cell_type": "markdown",
   "metadata": {},
   "source": [
    "<div class=\"alert alert-danger\">\n",
    "<b>Reviewer's comment v1</b> <a class=\"tocSkip\"></a>\n",
    "\n",
    "Tahap melakukan filter berdasarkan `day` dan `city` masih belum terdefinisi.\n",
    "\n",
    "</div>"
   ]
  },
  {
   "cell_type": "markdown",
   "metadata": {},
   "source": [
    "<div class=\"alert alert-success\">\n",
    "<b>Reviewer's comment v2</b> <a class=\"tocSkip\"></a>\n",
    "\n",
    "OK!\n",
    "\n",
    "</div>"
   ]
  },
  {
   "cell_type": "markdown",
   "metadata": {
    "id": "ytf7xFrFJQ2r"
   },
   "source": [
    "Panggil `number_tracks()` enam kali dan ubahlah nilai parameternya, sehingga Anda bisa mengambil data di kedua kota untuk masing-masing hari tersebut."
   ]
  },
  {
   "cell_type": "code",
   "execution_count": 24,
   "metadata": {
    "id": "rJcRATNQ_Zcu"
   },
   "outputs": [
    {
     "name": "stdout",
     "output_type": "stream",
     "text": [
      "15740\n"
     ]
    }
   ],
   "source": [
    "# jumlah lagu yang diputar di Springfield pada hari Senin\n",
    "number_tracks(data=df, day='Monday', city='Springfield')"
   ]
  },
  {
   "cell_type": "code",
   "execution_count": 25,
   "metadata": {
    "id": "hq_ncZ5T_Zcu"
   },
   "outputs": [
    {
     "name": "stdout",
     "output_type": "stream",
     "text": [
      "5614\n"
     ]
    }
   ],
   "source": [
    "# jumlah lagu yang diputar di Shelbyville pada hari Senin\n",
    "number_tracks(data=df, day='Monday', city='Shelbyville')"
   ]
  },
  {
   "cell_type": "code",
   "execution_count": 26,
   "metadata": {
    "id": "_NTy2VPU_Zcu"
   },
   "outputs": [
    {
     "name": "stdout",
     "output_type": "stream",
     "text": [
      "11056\n"
     ]
    }
   ],
   "source": [
    "#  jumlah lagu yang diputar di Springfield pada hari Rabu\n",
    "number_tracks(data=df, day='Wednesday', city='Springfield')"
   ]
  },
  {
   "cell_type": "code",
   "execution_count": 27,
   "metadata": {
    "id": "j2y3TAwo_Zcu"
   },
   "outputs": [
    {
     "name": "stdout",
     "output_type": "stream",
     "text": [
      "7003\n"
     ]
    }
   ],
   "source": [
    "#  jumlah lagu yang diputar di Shelbyville pada hari Rabu\n",
    "number_tracks(data=df, day='Wednesday', city='Shelbyville')"
   ]
  },
  {
   "cell_type": "code",
   "execution_count": 28,
   "metadata": {
    "id": "vYDw5u_K_Zcu"
   },
   "outputs": [
    {
     "name": "stdout",
     "output_type": "stream",
     "text": [
      "15945\n"
     ]
    }
   ],
   "source": [
    "# jumlah lagu yang diputar di Springfield pada hari Jumat\n",
    "number_tracks(data=df, day='Friday', city='Springfield')"
   ]
  },
  {
   "cell_type": "code",
   "execution_count": 29,
   "metadata": {
    "id": "8_yzFtW3_Zcu"
   },
   "outputs": [
    {
     "name": "stdout",
     "output_type": "stream",
     "text": [
      "5895\n"
     ]
    }
   ],
   "source": [
    "# jumlah lagu yang diputar di Shelbyville pada hari Jumat\n",
    "number_tracks(data=df, day='Friday', city='Shelbyville')"
   ]
  },
  {
   "cell_type": "markdown",
   "metadata": {},
   "source": [
    "<div class=\"alert alert-danger\">\n",
    "<b>Reviewer's comment v1</b> <a class=\"tocSkip\"></a>\n",
    "\n",
    "Masih terdapat sel yang kosong\n",
    "</div>"
   ]
  },
  {
   "cell_type": "markdown",
   "metadata": {},
   "source": [
    "<div class=\"alert alert-success\">\n",
    "<b>Reviewer's comment v2</b> <a class=\"tocSkip\"></a>\n",
    "\n",
    "Kerja yang bagus.\n",
    "\n",
    "</div>"
   ]
  },
  {
   "cell_type": "markdown",
   "metadata": {
    "id": "7QXffbO-_Zcu"
   },
   "source": [
    "Gunakan `pd.DataFrame` untuk membuat tabel, di mana\n",
    "* Nama kolom adalah: `['city', 'monday', 'wednesday', 'friday']`\n",
    "* Data adalah hasil yang Anda dapatkan dari `number_tracks()`"
   ]
  },
  {
   "cell_type": "code",
   "execution_count": 111,
   "metadata": {
    "id": "APAcLpOr_Zcu"
   },
   "outputs": [
    {
     "data": {
      "text/html": [
       "<div>\n",
       "<style scoped>\n",
       "    .dataframe tbody tr th:only-of-type {\n",
       "        vertical-align: middle;\n",
       "    }\n",
       "\n",
       "    .dataframe tbody tr th {\n",
       "        vertical-align: top;\n",
       "    }\n",
       "\n",
       "    .dataframe thead th {\n",
       "        text-align: right;\n",
       "    }\n",
       "</style>\n",
       "<table border=\"1\" class=\"dataframe\">\n",
       "  <thead>\n",
       "    <tr style=\"text-align: right;\">\n",
       "      <th></th>\n",
       "      <th>city</th>\n",
       "      <th>monday</th>\n",
       "      <th>wednesday</th>\n",
       "      <th>friday</th>\n",
       "    </tr>\n",
       "  </thead>\n",
       "  <tbody>\n",
       "    <tr>\n",
       "      <th>0</th>\n",
       "      <td>Springfield</td>\n",
       "      <td>15740</td>\n",
       "      <td>11056</td>\n",
       "      <td>15945</td>\n",
       "    </tr>\n",
       "    <tr>\n",
       "      <th>1</th>\n",
       "      <td>Shelbyville</td>\n",
       "      <td>5614</td>\n",
       "      <td>7003</td>\n",
       "      <td>5895</td>\n",
       "    </tr>\n",
       "  </tbody>\n",
       "</table>\n",
       "</div>"
      ],
      "text/plain": [
       "          city  monday  wednesday  friday\n",
       "0  Springfield   15740      11056   15945\n",
       "1  Shelbyville    5614       7003    5895"
      ]
     },
     "execution_count": 111,
     "metadata": {},
     "output_type": "execute_result"
    }
   ],
   "source": [
    "# tabel dengan hasil\n",
    "data_number_tracks = [\n",
    "    ['Springfield', 15740, 11056, 15945],\n",
    "    ['Shelbyville', 5614, 7003, 5895]\n",
    "]\n",
    "\n",
    "kolom = ['city', 'monday', 'wednesday', 'friday']\n",
    "\n",
    "tabel_hipotesis_1 = pd.DataFrame(data = data_number_tracks, columns= kolom)\n",
    "\n",
    "tabel_hipotesis_1"
   ]
  },
  {
   "cell_type": "markdown",
   "metadata": {
    "id": "-EgPIHYu_Zcu"
   },
   "source": [
    "**Kesimpulan**\n",
    "\n",
    "Data mengungkapkan perbedaan perilaku pengguna:\n",
    "\n",
    "- Pada Springfield, jumlah lagu yang diputar mencapai puncaknya pada hari Senin dan Jumat, sedangkan pada hari Rabu terjadi penurunan aktivitas.\n",
    "- Di Shelbyville, pengguna lebih banyak mendengarkan musik pada hari Rabu, tetapi sebaiknya pengguna di Shelbyville meningkatkan lagu yang didengar pada hari Senin dan Jumat .\n",
    "\n",
    "Aktivitas pengguna pada hari Senin dan Jumat paling banyak."
   ]
  },
  {
   "cell_type": "markdown",
   "metadata": {},
   "source": [
    "<div class=\"alert alert-danger\">\n",
    "<b>Reviewer's comment v1</b> <a class=\"tocSkip\"></a>\n",
    "\n",
    "Masih terdapat sel yang kosong\n",
    "</div>"
   ]
  },
  {
   "cell_type": "markdown",
   "metadata": {},
   "source": [
    "<div class=\"alert alert-success\">\n",
    "<b>Reviewer's comment v2</b> <a class=\"tocSkip\"></a>\n",
    "\n",
    "Mantab\n",
    "\n",
    "</div>"
   ]
  },
  {
   "cell_type": "markdown",
   "metadata": {
    "id": "p7nFQajCVw5B"
   },
   "source": [
    "[Kembali ke Daftar Isi](#back)"
   ]
  },
  {
   "cell_type": "markdown",
   "metadata": {
    "id": "atZAxtq4_Zcu"
   },
   "source": [
    "### Hipotesis 2: Musik di Awal dan Akhir Minggu <a id='week'></a>"
   ]
  },
  {
   "cell_type": "markdown",
   "metadata": {
    "id": "eXrQqXFH_Zcu"
   },
   "source": [
    "Menurut hipotesis kedua, pada Senin pagi dan Jumat malam, warga Springfield mendengarkan genre yang berbeda dari yang dinikmati warga Shelbyville."
   ]
  },
  {
   "cell_type": "markdown",
   "metadata": {
    "id": "S8UcW6Hw_Zcu"
   },
   "source": [
    "Dapatkan tabel (pastikan nama tabel gabungan Anda cocok dengan DataFrame yang diberikan dalam dua blok kode di bawah):\n",
    "* Untuk Springfield — `spr_general`\n",
    "* Untuk Shelbyville — `shel_general`"
   ]
  },
  {
   "cell_type": "code",
   "execution_count": 30,
   "metadata": {
    "id": "qeaFfM_P_Zcu"
   },
   "outputs": [],
   "source": [
    "# mendapatkan tabel spr_general dari baris df,\n",
    "# dimana nilai dari kolom 'city' adalah 'Springfield'\n",
    "spr_general = df[df['city'] == 'Springfield']"
   ]
  },
  {
   "cell_type": "code",
   "execution_count": 31,
   "metadata": {
    "id": "ORaVRKto_Zcu"
   },
   "outputs": [],
   "source": [
    "# mendapatkan shel_general dari baris df,\n",
    "# dimana nilai dari kolom 'city' adalah 'Shelbyville'\n",
    "shel_general = df[df['city'] == 'Shelbyville']"
   ]
  },
  {
   "cell_type": "markdown",
   "metadata": {},
   "source": [
    "<div class=\"alert alert-success\">\n",
    "<b>Reviewer's comment v1</b> <a class=\"tocSkip\"></a>\n",
    "\n",
    "Semua berjalan dengan lancar.\n",
    "\n",
    "</div>"
   ]
  },
  {
   "cell_type": "markdown",
   "metadata": {
    "id": "MEJV-CX2_Zcu"
   },
   "source": [
    "Tulis fungsi `genre_weekday()` dengan empat parameter:\n",
    "* Sebuah tabel untuk data\n",
    "* Nama hari\n",
    "* Tanda waktu pertama, dalam format 'hh:mm'\n",
    "* Tanda waktu terakhir, dalam format 'hh: mm'\n",
    "\n",
    "Fungsi tersebut harus menghasilkan info tentang 15 genre paling populer pada hari tertentu dalam periode diantara dua tanda waktu."
   ]
  },
  {
   "cell_type": "code",
   "execution_count": 33,
   "metadata": {
    "id": "laJT9BYl_Zcu"
   },
   "outputs": [],
   "source": [
    "# Mendeklarasikan fungsi genre_weekday() dengan parameter day=, time1=, dan time2=. Itu harus\n",
    "# memberikan informasi tentang genre paling populer pada hari dan waktu tertentu:\n",
    "\n",
    "# 1) Biarkan variabel genre_df menyimpan baris yang memenuhi beberapa ketentuan:\n",
    "#    - nilai pada kolom 'day' sama dengan nilai argumen hari=\n",
    "#    - nilai pada kolom 'time' lebih besar dari nilai argumen time1=\n",
    "#    - nilai pada kolom 'time' lebih kecil dari nilai argumen time2=\n",
    "#    Gunakan pemfilteran berurutan dengan pengindeksan logis.\n",
    "\n",
    "# 2) Kelompokkan genre_df berdasarkan kolom 'genre', lalu ambil salah satu kolomnya,\n",
    "#    dan gunakan metode count() untuk menemukan jumlah entri untuk masing-masing\n",
    "#    genre yang diwakili; simpan Series yang dihasilkan ke\n",
    "#    variabel genre_df_count\n",
    "\n",
    "# 3) Urutkan genre_df_count dalam urutan menurun dan simpan hasilnya\n",
    "#    ke variabel genre_df_sorted\n",
    "\n",
    "# 4) Menghasilkan objek Series dengan nilai 15 genre_df_sorted pertama - 15 genre paling\n",
    "#    populer (pada hari tertentu, dalam jangka waktu tertentu)\n",
    "\n",
    "# tulis fungsi Anda di sini\n",
    "def genre_weekday(df, day, time1, time2):\n",
    "    # pemfilteran berturut-turut\n",
    "    # genre_df hanya akan menyimpan baris df di mana day sama dengan day=\n",
    "    # tulis kode program Anda di sini\n",
    "    genre_df = df[df['day'] == day]\n",
    "    # genre_df hanya akan menyimpan baris df di mana time lebih kecil dari time2=\n",
    "    # tulis kode program Anda di sini\n",
    "    genre_df = genre_df[genre_df['time'] < time2]\n",
    "    # genre_df hanya akan menyimpan baris df di mana time lebih besar dari time1=\n",
    "    # tulis kode program Anda di sini\n",
    "    genre_df = genre_df[genre_df['time'] > time1]\n",
    "    # kelompokkan DataFrame yang difilter berdasarkan kolom dengan nama genre, ambil kolom genre, dan temukan jumlah baris untuk setiap genre dengan metode count()\n",
    "    # tulis kode program Anda di sini\n",
    "    genre_df_grouped = genre_df.groupby('genre')['genre'].count()\n",
    "    # kita akan mengurutkan hasilnya dalam urutan menurun (sehingga genre paling populer didahulukan pada objek Series\n",
    "    # tulis kode program Anda di sini\n",
    "    genre_df_sorted = genre_df_grouped.sort_values(ascending=False)\n",
    "    # kita akan menghasilkan objek Series yang menyimpan 15 genre paling populer pada hari tertentu dalam jangka waktu tertentu\n",
    "    return genre_df_sorted[:15]"
   ]
  },
  {
   "cell_type": "markdown",
   "metadata": {},
   "source": [
    "<div class=\"alert alert-success\">\n",
    "<b>Reviewer's comment v1</b> <a class=\"tocSkip\"></a>\n",
    "\n",
    "Fungsi sudah didefinisikan dengan benar\n",
    "</div>"
   ]
  },
  {
   "cell_type": "markdown",
   "metadata": {
    "id": "la2s2_PF_Zcu"
   },
   "source": [
    "Bandingkan hasil fungsi `genre_weekday()` untuk Springfield dan Shelbyville pada Senin pagi (dari pukul 07.00 hingga 11.00) dan pada Jumat malam (dari pukul 17:00 hingga 23:00):"
   ]
  },
  {
   "cell_type": "code",
   "execution_count": 34,
   "metadata": {
    "id": "yz7itPUQ_Zcu"
   },
   "outputs": [
    {
     "data": {
      "text/plain": [
       "genre\n",
       "pop            781\n",
       "dance          549\n",
       "electronic     480\n",
       "rock           474\n",
       "hiphop         286\n",
       "ruspop         186\n",
       "world          181\n",
       "rusrap         175\n",
       "alternative    164\n",
       "unknown        161\n",
       "classical      157\n",
       "metal          120\n",
       "jazz           100\n",
       "folk            97\n",
       "soundtrack      95\n",
       "Name: genre, dtype: int64"
      ]
     },
     "execution_count": 34,
     "metadata": {},
     "output_type": "execute_result"
    }
   ],
   "source": [
    "# memanggil fungsi untuk Senin pagi di Springfield (gunakan spr_general alih-alih tabel df)\n",
    "genre_weekday(spr_general, 'Monday', '07:00', '11:00')"
   ]
  },
  {
   "cell_type": "code",
   "execution_count": 116,
   "metadata": {
    "id": "kwUcHPdy_Zcu"
   },
   "outputs": [
    {
     "data": {
      "text/plain": [
       "genre\n",
       "pop            218\n",
       "dance          182\n",
       "rock           162\n",
       "electronic     147\n",
       "hiphop          80\n",
       "ruspop          64\n",
       "alternative     58\n",
       "rusrap          55\n",
       "jazz            44\n",
       "classical       40\n",
       "world           36\n",
       "rap             32\n",
       "soundtrack      31\n",
       "rnb             27\n",
       "metal           27\n",
       "Name: genre, dtype: int64"
      ]
     },
     "execution_count": 116,
     "metadata": {},
     "output_type": "execute_result"
    }
   ],
   "source": [
    "# memanggil fungsi untuk Senin pagi di Shelbyville (gunakan shel_general alih-alih tabel df)\n",
    "genre_weekday(shel_general, 'Monday', '07:00', '11:00')"
   ]
  },
  {
   "cell_type": "code",
   "execution_count": 35,
   "metadata": {
    "id": "EzXVRE1o_Zcu"
   },
   "outputs": [
    {
     "data": {
      "text/plain": [
       "genre\n",
       "pop            713\n",
       "rock           517\n",
       "dance          495\n",
       "electronic     482\n",
       "hiphop         273\n",
       "world          208\n",
       "ruspop         170\n",
       "classical      163\n",
       "alternative    163\n",
       "rusrap         142\n",
       "jazz           111\n",
       "unknown        110\n",
       "soundtrack     105\n",
       "rnb             90\n",
       "metal           88\n",
       "Name: genre, dtype: int64"
      ]
     },
     "execution_count": 35,
     "metadata": {},
     "output_type": "execute_result"
    }
   ],
   "source": [
    "# memanggil fungsi untuk Jumat malam di Springfield\n",
    "genre_weekday(spr_general, 'Friday', '17:00', '23:00')"
   ]
  },
  {
   "cell_type": "code",
   "execution_count": 36,
   "metadata": {
    "id": "JZaEKu5v_Zcu",
    "scrolled": true
   },
   "outputs": [
    {
     "data": {
      "text/plain": [
       "genre\n",
       "pop            256\n",
       "rock           216\n",
       "electronic     216\n",
       "dance          210\n",
       "hiphop          97\n",
       "alternative     63\n",
       "jazz            61\n",
       "classical       60\n",
       "rusrap          59\n",
       "world           54\n",
       "unknown         47\n",
       "ruspop          47\n",
       "soundtrack      40\n",
       "metal           39\n",
       "rap             36\n",
       "Name: genre, dtype: int64"
      ]
     },
     "execution_count": 36,
     "metadata": {},
     "output_type": "execute_result"
    }
   ],
   "source": [
    "# memanggil fungsi untuk Jumat malam di Shelbyville\n",
    "genre_weekday(shel_general, 'Friday', '17:00', '23:00')"
   ]
  },
  {
   "cell_type": "markdown",
   "metadata": {},
   "source": [
    "<div class=\"alert alert-success\">\n",
    "<b>Reviewer's comment v1</b> <a class=\"tocSkip\"></a>\n",
    "\n",
    "OK!\n",
    "\n",
    "</div>"
   ]
  },
  {
   "cell_type": "markdown",
   "metadata": {
    "id": "wrCe4MNX_Zcu"
   },
   "source": [
    "**Kesimpulan**\n",
    "\n",
    "Setelah membandingkan 15 genre teratas pada Senin pagi, kita dapat menarik kesimpulan berikut:\n",
    "\n",
    "1. Pengguna dari Springfield dan Shelbyville mendengarkan musik dengan genre yang sama. Lima genre teratas sama, hanya rock dan elektronik yang bertukar tempat.\n",
    "\n",
    "2. Di Springfield, jumlah nilai yang hilang ternyata sangat besar sehingga nilai `'unknown'` berada di urutan ke-10. Ini berarti bahwa nilai-nilai yang hilang memiliki jumlah data yang cukup besar, yang mungkin menjadi dasar untuk mempertanyakan ketepatan kesimpulan kita.\n",
    "\n",
    "Untuk Jumat malam, situasinya serupa. Genre individu agak bervariasi, tetapi secara keseluruhan, 15 besar genre untuk kedua kota sama.\n",
    "\n",
    "Dengan demikian, hipotesis kedua sebagian terbukti benar:\n",
    "* Pengguna mendengarkan musik yang sama di awal dan akhir minggu.\n",
    "* Tidak ada perbedaan yang mencolok antara Springfield dan Shelbyville. Pada kedua kota tersebut, pop adalah genre yang paling populer.\n",
    "\n",
    "Namun, jumlah nilai yang hilang membuat hasil ini dipertanyakan. Di Springfield, ada begitu banyak yang memengaruhi 15 teratas kita. Jika kita tidak mengabaikan nilai-nilai ini, hasilnya mungkin akan berbeda."
   ]
  },
  {
   "cell_type": "markdown",
   "metadata": {
    "id": "jLmXgdanVyhP"
   },
   "source": [
    "[Kembali ke Daftar Isi](#back)"
   ]
  },
  {
   "cell_type": "markdown",
   "metadata": {
    "id": "JolODAqr_Zcu"
   },
   "source": [
    "### Hipotesis 3: Preferensi Genre di Springfield dan Shelbyville <a id='genre'></a>\n",
    "\n",
    "Hipotesis: Shelbyville menyukai musik rap. Warga Springfield lebih menyukai pop."
   ]
  },
  {
   "cell_type": "markdown",
   "metadata": {
    "id": "DlegSvaT_Zcu"
   },
   "source": [
    "Kelompokkan tabel `spr_general` berdasarkan genre dan temukan jumlah lagu yang dimainkan untuk setiap genre dengan metode `count()`. Kemudian urutkan hasilnya dalam urutan menurun dan simpan ke `spr_genres`."
   ]
  },
  {
   "cell_type": "code",
   "execution_count": 21,
   "metadata": {
    "id": "r19lIPke_Zcu",
    "scrolled": true
   },
   "outputs": [
    {
     "ename": "NameError",
     "evalue": "name 'spr_general' is not defined",
     "output_type": "error",
     "traceback": [
      "\u001b[0;31m---------------------------------------------------------------------------\u001b[0m",
      "\u001b[0;31mNameError\u001b[0m                                 Traceback (most recent call last)",
      "\u001b[0;32m/tmp/ipykernel_32/398913412.py\u001b[0m in \u001b[0;36m<module>\u001b[0;34m\u001b[0m\n\u001b[1;32m      3\u001b[0m \u001b[0;31m# urutkan Series yang dihasilkan dalam urutan menurun, lalu simpan ke spr_genres\u001b[0m\u001b[0;34m\u001b[0m\u001b[0;34m\u001b[0m\u001b[0;34m\u001b[0m\u001b[0m\n\u001b[1;32m      4\u001b[0m \u001b[0;34m\u001b[0m\u001b[0m\n\u001b[0;32m----> 5\u001b[0;31m \u001b[0mspr_genres\u001b[0m \u001b[0;34m=\u001b[0m \u001b[0mspr_general\u001b[0m\u001b[0;34m.\u001b[0m\u001b[0mgroupby\u001b[0m\u001b[0;34m(\u001b[0m\u001b[0;34m'genre'\u001b[0m\u001b[0;34m)\u001b[0m\u001b[0;34m[\u001b[0m\u001b[0;34m'genre'\u001b[0m\u001b[0;34m]\u001b[0m\u001b[0;34m.\u001b[0m\u001b[0mcount\u001b[0m\u001b[0;34m(\u001b[0m\u001b[0;34m)\u001b[0m\u001b[0;34m.\u001b[0m\u001b[0msort_values\u001b[0m\u001b[0;34m(\u001b[0m\u001b[0mascending\u001b[0m\u001b[0;34m=\u001b[0m\u001b[0;32mFalse\u001b[0m\u001b[0;34m)\u001b[0m\u001b[0;34m\u001b[0m\u001b[0;34m\u001b[0m\u001b[0m\n\u001b[0m\u001b[1;32m      6\u001b[0m \u001b[0mspr_genres\u001b[0m\u001b[0;34m\u001b[0m\u001b[0;34m\u001b[0m\u001b[0m\n",
      "\u001b[0;31mNameError\u001b[0m: name 'spr_general' is not defined"
     ]
    }
   ],
   "source": [
    "# pada satu baris: kelompokkan tabel spr_general berdasarkan kolom 'genre',\n",
    "# hitung nilai 'genre' dengan count() dalam pengelompokan,\n",
    "# urutkan Series yang dihasilkan dalam urutan menurun, lalu simpan ke spr_genres\n",
    "\n",
    "spr_genres = spr_general.groupby('genre')['genre'].count().sort_values(ascending=False)\n",
    "spr_genres"
   ]
  },
  {
   "cell_type": "markdown",
   "metadata": {},
   "source": [
    "<div class=\"alert alert-danger\">\n",
    "<b>Reviewer's comment v1</b> <a class=\"tocSkip\"></a>\n",
    "    \n",
    "Kolom `genre` tidak dipilih setelah pengelompokan sehingga terdapat perulangan informasi seperti di sel selanjutnya\n",
    "\n",
    "</div>"
   ]
  },
  {
   "cell_type": "markdown",
   "metadata": {},
   "source": [
    "<div class=\"alert alert-warning\">\n",
    "<b>Reviewer's comment v2</b> <a class=\"tocSkip\"></a>\n",
    "\n",
    "Masalah sudah teratasi dengan baik. Tetapi penggunaan `print()` sudah tidak diperlukan disini.\n",
    "\n",
    "</div>"
   ]
  },
  {
   "cell_type": "markdown",
   "metadata": {
    "id": "6kMuomxTiIr8"
   },
   "source": [
    "Tampilkan 10 baris pertama dari `spr_genres`:"
   ]
  },
  {
   "cell_type": "code",
   "execution_count": 130,
   "metadata": {
    "id": "WhCSooF8_Zcv",
    "scrolled": true
   },
   "outputs": [
    {
     "data": {
      "text/plain": [
       "genre\n",
       "pop            5892\n",
       "dance          4435\n",
       "rock           3965\n",
       "electronic     3786\n",
       "hiphop         2096\n",
       "classical      1616\n",
       "world          1432\n",
       "alternative    1379\n",
       "ruspop         1372\n",
       "rusrap         1161\n",
       "Name: genre, dtype: int64"
      ]
     },
     "execution_count": 130,
     "metadata": {},
     "output_type": "execute_result"
    }
   ],
   "source": [
    "# menampilkan 10 baris pertama dari spr_genres\n",
    "spr_genres.head(10)"
   ]
  },
  {
   "cell_type": "markdown",
   "metadata": {},
   "source": [
    "<div class=\"alert alert-warning\">\n",
    "<b>Reviewer's comment v1</b> <a class=\"tocSkip\"></a>\n",
    "    \n",
    "Tidak perlu menggunakan `print()`.\n",
    "\n",
    "</div>"
   ]
  },
  {
   "cell_type": "markdown",
   "metadata": {
    "id": "cnPG2vnN_Zcv"
   },
   "source": [
    "Sekarang lakukan hal yang sama pada data di Shelbyville.\n",
    "\n",
    "Kelompokkan tabel `shel_general` berdasarkan genre dan temukan jumlah lagu yang dimainkan untuk setiap genre. Kemudian urutkan hasilnya dalam urutan menurun dan simpan ke tabel `shel_genres`:"
   ]
  },
  {
   "cell_type": "code",
   "execution_count": 22,
   "metadata": {
    "id": "gluLIpE7_Zcv"
   },
   "outputs": [
    {
     "ename": "NameError",
     "evalue": "name 'shel_general' is not defined",
     "output_type": "error",
     "traceback": [
      "\u001b[0;31m---------------------------------------------------------------------------\u001b[0m",
      "\u001b[0;31mNameError\u001b[0m                                 Traceback (most recent call last)",
      "\u001b[0;32m/tmp/ipykernel_32/3903175958.py\u001b[0m in \u001b[0;36m<module>\u001b[0;34m\u001b[0m\n\u001b[1;32m      3\u001b[0m \u001b[0;31m# urutkan Series yang dihasilkan dalam urutan menurun dan simpan ke shel_genres\u001b[0m\u001b[0;34m\u001b[0m\u001b[0;34m\u001b[0m\u001b[0;34m\u001b[0m\u001b[0m\n\u001b[1;32m      4\u001b[0m \u001b[0;34m\u001b[0m\u001b[0m\n\u001b[0;32m----> 5\u001b[0;31m \u001b[0mshel_genres\u001b[0m \u001b[0;34m=\u001b[0m \u001b[0mshel_general\u001b[0m\u001b[0;34m.\u001b[0m\u001b[0mgroupby\u001b[0m\u001b[0;34m(\u001b[0m\u001b[0;34m'genre'\u001b[0m\u001b[0;34m)\u001b[0m\u001b[0;34m[\u001b[0m\u001b[0;34m'genre'\u001b[0m\u001b[0;34m]\u001b[0m\u001b[0;34m.\u001b[0m\u001b[0mcount\u001b[0m\u001b[0;34m(\u001b[0m\u001b[0;34m)\u001b[0m\u001b[0;34m.\u001b[0m\u001b[0msort_values\u001b[0m\u001b[0;34m(\u001b[0m\u001b[0mascending\u001b[0m\u001b[0;34m=\u001b[0m\u001b[0;32mFalse\u001b[0m\u001b[0;34m)\u001b[0m\u001b[0;34m\u001b[0m\u001b[0;34m\u001b[0m\u001b[0m\n\u001b[0m\u001b[1;32m      6\u001b[0m \u001b[0mshel_genres\u001b[0m\u001b[0;34m\u001b[0m\u001b[0;34m\u001b[0m\u001b[0m\n",
      "\u001b[0;31mNameError\u001b[0m: name 'shel_general' is not defined"
     ]
    }
   ],
   "source": [
    "# pada satu baris: kelompokkan tabel shel_general menurut kolom 'genre',\n",
    "# hitung nilai 'genre' dalam pengelompokan menggunakan count(),\n",
    "# urutkan Series yang dihasilkan dalam urutan menurun dan simpan ke shel_genres\n",
    "\n",
    "shel_genres = shel_general.groupby('genre')['genre'].count().sort_values(ascending=False)\n",
    "shel_genres"
   ]
  },
  {
   "cell_type": "markdown",
   "metadata": {},
   "source": [
    "<div class=\"alert alert-danger\">\n",
    "<b>Reviewer's comment v1</b> <a class=\"tocSkip\"></a>\n",
    "    \n",
    "Perulangan dari sebelumnya kolom `genre` tidak dipilih setelah pengelompokan sehingga terdapat perulangan informasi seperti di sel selanjutnya\n",
    "\n",
    "</div>"
   ]
  },
  {
   "cell_type": "markdown",
   "metadata": {},
   "source": [
    "<div class=\"alert alert-warning\">\n",
    "<b>Reviewer's comment v2</b> <a class=\"tocSkip\"></a>\n",
    "\n",
    "Penggunaan `print()` sudah tidak diperlukan disini.\n",
    "\n",
    "</div>"
   ]
  },
  {
   "cell_type": "markdown",
   "metadata": {
    "id": "5Doha_ODgyQ8"
   },
   "source": [
    "Tampilkan 10 baris pertama dari `shel_genres`:"
   ]
  },
  {
   "cell_type": "code",
   "execution_count": 131,
   "metadata": {
    "id": "uaGJHjVU_Zcv",
    "scrolled": true
   },
   "outputs": [
    {
     "data": {
      "text/plain": [
       "genre\n",
       "pop            2431\n",
       "dance          1932\n",
       "rock           1879\n",
       "electronic     1736\n",
       "hiphop          960\n",
       "alternative     649\n",
       "classical       646\n",
       "rusrap          564\n",
       "ruspop          538\n",
       "world           515\n",
       "Name: genre, dtype: int64"
      ]
     },
     "execution_count": 131,
     "metadata": {},
     "output_type": "execute_result"
    }
   ],
   "source": [
    "# menampilkan 10 baris pertama dari shel_genres\n",
    "shel_genres.head(10)"
   ]
  },
  {
   "cell_type": "markdown",
   "metadata": {},
   "source": [
    "<div class=\"alert alert-warning\">\n",
    "<b>Reviewer's comment v1</b> <a class=\"tocSkip\"></a>\n",
    "    \n",
    "Tidak perlu menggunakan `print()`.\n",
    "\n",
    "</div>"
   ]
  },
  {
   "cell_type": "markdown",
   "metadata": {
    "id": "RY51YJYu_Zcv"
   },
   "source": [
    "**Kesimpulan**"
   ]
  },
  {
   "cell_type": "markdown",
   "metadata": {
    "id": "nVhnJEm__Zcv"
   },
   "source": [
    "Hipotesis terbukti benar sebagian:\n",
    "* Musik pop adalah genre paling populer di Springfield, seperti yang diharapkan.\n",
    "* Namun, musik pop ternyata sama populernya baik di Springfield maupun di Shelbyville, dan musik rap tidak berada di 5 besar untuk kedua kota tersebut.\n"
   ]
  },
  {
   "cell_type": "markdown",
   "metadata": {
    "id": "Byr0RfpPVz14"
   },
   "source": [
    "[Kembali ke Daftar Isi](#back)"
   ]
  },
  {
   "cell_type": "markdown",
   "metadata": {
    "id": "ykKQ0N65_Zcv"
   },
   "source": [
    "# Temuan <a id='end'></a>"
   ]
  },
  {
   "cell_type": "markdown",
   "metadata": {
    "id": "tjUwbHb3_Zcv"
   },
   "source": [
    "Kita telah menguji tiga hipotesis berikut:\n",
    "\n",
    "1. Aktivitas pengguna berbeda-beda tergantung pada hari dan kotanya.\n",
    "2. Pada senin pagi, penduduk Springfield dan Shelbyville mendengarkan genre yang berbeda. Hal ini juga ini juga berlaku untuk Jumat malam.\n",
    "3. Pendengar di Springfield dan Shelbyville memiliki preferensi yang berbeda. Baik Springfield maupun di Shelbyville, mereka lebih suka musik pop.\n",
    "\n",
    "Setelah menganalisis data, kita dapat menyimpulkan:\n",
    "\n",
    "1. Aktivitas pengguna di Springfield dan Shelbyville bergantung pada harinya, walaupun kotanya berbeda.\n",
    "\n",
    "Hipotesis pertama dapat diterima sepenuhnya.\n",
    "\n",
    "2. Preferensi musik tidak terlalu berbeda selama seminggu di Springfield dan Shelbyville. Kita dapat melihat perbedaan kecil dalam urutan pada hari Senin, tetapi:\n",
    "* Baik di Springfield maupun di Shelbyville, orang paling banyak mendengarkan musik pop.\n",
    "\n",
    "Jadi hipotesis ini tidak dapat kita terima. Kita juga harus ingat bahwa hasilnya bisa berbeda jika bukan karena nilai yang hilang.\n",
    "\n",
    "3. Ternyata preferensi musik pengguna dari Springfield dan Shelbyville sangat mirip.\n",
    "\n",
    "Hipotesis ketiga ditolak. Jika ada perbedaan preferensi, tidak dapat dilihat dari data ini.\n",
    "\n",
    "### Catatan\n",
    "Dalam proyek sesungguhnya, penelitian melibatkan pengujian hipotesis statistik, yang lebih tepat dan lebih kuantitatif. Perhatikan juga bahwa Anda tidak dapat selalu menarik kesimpulan tentang seluruh kota berdasarkan data dari satu sumber saja.\n",
    "\n",
    "Anda akan mempelajari pengujian hipotesis dalam sprint analisis data statistik."
   ]
  },
  {
   "cell_type": "markdown",
   "metadata": {},
   "source": [
    "<div class=\"alert alert-success\">\n",
    "<b>Reviewer's comment v1</b> <a class=\"tocSkip\"></a>\n",
    "    \n",
    "Secara keseluruhan ini adalah hasil yang sangat bagus namun terdapat beberapa catatan yang perlu diperbaiki.\n",
    "\n",
    "</div>"
   ]
  },
  {
   "cell_type": "markdown",
   "metadata": {
    "id": "Ju4AHDSgV1FE"
   },
   "source": [
    "[Kembali ke Daftar Isi](#back)"
   ]
  }
 ],
 "metadata": {
  "ExecuteTimeLog": [
   {
    "duration": 54,
    "start_time": "2022-08-01T09:51:52.525Z"
   },
   {
    "duration": 372,
    "start_time": "2022-08-01T09:52:07.435Z"
   },
   {
    "duration": 318,
    "start_time": "2022-08-01T09:52:09.553Z"
   },
   {
    "duration": 79,
    "start_time": "2022-08-01T09:53:07.113Z"
   },
   {
    "duration": 6,
    "start_time": "2022-08-01T09:53:26.049Z"
   },
   {
    "duration": 6,
    "start_time": "2022-08-01T09:55:09.472Z"
   },
   {
    "duration": 20,
    "start_time": "2022-08-01T09:56:34.692Z"
   },
   {
    "duration": 3,
    "start_time": "2022-08-01T10:05:14.045Z"
   },
   {
    "duration": 9,
    "start_time": "2022-08-01T10:05:52.055Z"
   },
   {
    "duration": 3,
    "start_time": "2022-08-01T10:05:59.795Z"
   },
   {
    "duration": 2,
    "start_time": "2022-08-01T10:07:58.595Z"
   },
   {
    "duration": 14,
    "start_time": "2022-08-01T10:08:07.957Z"
   },
   {
    "duration": 74,
    "start_time": "2022-08-02T03:37:33.044Z"
   },
   {
    "duration": 98,
    "start_time": "2022-08-02T03:40:04.912Z"
   },
   {
    "duration": 39,
    "start_time": "2022-08-02T03:40:13.739Z"
   },
   {
    "duration": 368,
    "start_time": "2022-08-02T03:40:29.884Z"
   },
   {
    "duration": 317,
    "start_time": "2022-08-02T03:40:31.412Z"
   },
   {
    "duration": 8,
    "start_time": "2022-08-02T03:40:34.235Z"
   },
   {
    "duration": 32,
    "start_time": "2022-08-02T03:40:40.795Z"
   },
   {
    "duration": 4,
    "start_time": "2022-08-02T03:40:46.500Z"
   },
   {
    "duration": 10,
    "start_time": "2022-08-02T03:40:49.467Z"
   },
   {
    "duration": 3,
    "start_time": "2022-08-02T03:40:51.667Z"
   },
   {
    "duration": 17,
    "start_time": "2022-08-02T03:40:54.026Z"
   },
   {
    "duration": 15,
    "start_time": "2022-08-02T03:41:17.112Z"
   },
   {
    "duration": 2,
    "start_time": "2022-08-02T03:41:23.044Z"
   },
   {
    "duration": 58,
    "start_time": "2022-08-02T03:42:58.569Z"
   },
   {
    "duration": 31,
    "start_time": "2022-08-02T03:44:13.257Z"
   },
   {
    "duration": 51,
    "start_time": "2022-08-02T03:48:02.694Z"
   },
   {
    "duration": 57,
    "start_time": "2022-08-02T03:48:20.375Z"
   },
   {
    "duration": 8,
    "start_time": "2022-08-02T03:49:46.422Z"
   },
   {
    "duration": 5,
    "start_time": "2022-08-02T03:52:47.586Z"
   },
   {
    "duration": 42,
    "start_time": "2022-08-02T03:57:19.856Z"
   },
   {
    "duration": 10,
    "start_time": "2022-08-02T03:58:10.304Z"
   },
   {
    "duration": 79,
    "start_time": "2022-08-02T04:03:19.976Z"
   },
   {
    "duration": 96,
    "start_time": "2022-08-02T04:03:45.818Z"
   },
   {
    "duration": 48,
    "start_time": "2022-08-02T04:04:00.245Z"
   },
   {
    "duration": 9,
    "start_time": "2022-08-02T07:21:52.160Z"
   },
   {
    "duration": 4,
    "start_time": "2022-08-02T07:22:41.318Z"
   },
   {
    "duration": 43,
    "start_time": "2022-08-02T07:24:01.617Z"
   },
   {
    "duration": 9,
    "start_time": "2022-08-02T07:24:12.328Z"
   },
   {
    "duration": 361,
    "start_time": "2022-08-02T07:24:34.874Z"
   },
   {
    "duration": 323,
    "start_time": "2022-08-02T07:24:36.740Z"
   },
   {
    "duration": 2,
    "start_time": "2022-08-02T07:25:02.323Z"
   },
   {
    "duration": 12,
    "start_time": "2022-08-02T07:25:10.044Z"
   },
   {
    "duration": 14,
    "start_time": "2022-08-02T07:25:12.565Z"
   },
   {
    "duration": 11,
    "start_time": "2022-08-02T07:25:14.619Z"
   },
   {
    "duration": 3,
    "start_time": "2022-08-02T07:25:16.023Z"
   },
   {
    "duration": 11,
    "start_time": "2022-08-02T07:25:17.123Z"
   },
   {
    "duration": 0,
    "start_time": "2022-08-02T07:26:16.972Z"
   },
   {
    "duration": 15,
    "start_time": "2022-08-02T07:26:27.875Z"
   },
   {
    "duration": 83,
    "start_time": "2022-08-02T07:26:37.187Z"
   },
   {
    "duration": 6,
    "start_time": "2022-08-02T07:26:54.123Z"
   },
   {
    "duration": 5,
    "start_time": "2022-08-02T07:40:11.425Z"
   },
   {
    "duration": 11,
    "start_time": "2022-08-02T07:40:47.274Z"
   },
   {
    "duration": 4,
    "start_time": "2022-08-02T07:40:49.051Z"
   },
   {
    "duration": 10,
    "start_time": "2022-08-02T07:40:59.187Z"
   },
   {
    "duration": 10,
    "start_time": "2022-08-02T07:41:24.137Z"
   },
   {
    "duration": 4,
    "start_time": "2022-08-02T07:41:35.651Z"
   },
   {
    "duration": 8618,
    "start_time": "2022-08-02T07:43:56.105Z"
   },
   {
    "duration": 94,
    "start_time": "2022-08-02T07:51:11.227Z"
   },
   {
    "duration": 42525,
    "start_time": "2022-08-02T07:52:12.353Z"
   },
   {
    "duration": 291,
    "start_time": "2022-08-02T07:53:41.261Z"
   },
   {
    "duration": 1622,
    "start_time": "2022-08-02T07:55:09.022Z"
   },
   {
    "duration": 8,
    "start_time": "2022-08-02T07:58:23.590Z"
   },
   {
    "duration": 681,
    "start_time": "2022-08-02T07:59:25.542Z"
   },
   {
    "duration": 7,
    "start_time": "2022-08-02T08:05:20.752Z"
   },
   {
    "duration": 4,
    "start_time": "2022-08-02T08:06:13.035Z"
   },
   {
    "duration": 5,
    "start_time": "2022-08-02T08:10:09.936Z"
   },
   {
    "duration": 6,
    "start_time": "2022-08-02T08:10:21.277Z"
   },
   {
    "duration": 6,
    "start_time": "2022-08-02T08:10:41.944Z"
   },
   {
    "duration": 5,
    "start_time": "2022-08-02T08:10:49.189Z"
   },
   {
    "duration": 6,
    "start_time": "2022-08-02T08:12:20.156Z"
   },
   {
    "duration": 5,
    "start_time": "2022-08-02T08:14:09.340Z"
   },
   {
    "duration": 6,
    "start_time": "2022-08-02T08:15:12.874Z"
   },
   {
    "duration": 12,
    "start_time": "2022-08-02T08:15:34.735Z"
   },
   {
    "duration": 9,
    "start_time": "2022-08-02T08:17:22.688Z"
   },
   {
    "duration": 7,
    "start_time": "2022-08-02T08:22:00.301Z"
   },
   {
    "duration": 9,
    "start_time": "2022-08-02T08:22:48.961Z"
   },
   {
    "duration": 11,
    "start_time": "2022-08-02T08:23:03.871Z"
   },
   {
    "duration": 10,
    "start_time": "2022-08-02T08:24:00.995Z"
   },
   {
    "duration": 10,
    "start_time": "2022-08-02T08:31:13.580Z"
   },
   {
    "duration": 7,
    "start_time": "2022-08-02T08:33:00.197Z"
   },
   {
    "duration": 10,
    "start_time": "2022-08-02T08:41:14.964Z"
   },
   {
    "duration": 10,
    "start_time": "2022-08-02T08:41:26.294Z"
   },
   {
    "duration": 10,
    "start_time": "2022-08-02T08:41:43.084Z"
   },
   {
    "duration": 85,
    "start_time": "2022-08-02T08:42:40.675Z"
   },
   {
    "duration": 8,
    "start_time": "2022-08-02T08:42:46.897Z"
   },
   {
    "duration": 6,
    "start_time": "2022-08-02T08:46:02.928Z"
   },
   {
    "duration": 9,
    "start_time": "2022-08-02T08:46:45.279Z"
   },
   {
    "duration": 6,
    "start_time": "2022-08-02T08:49:38.327Z"
   },
   {
    "duration": 8,
    "start_time": "2022-08-02T08:50:38.655Z"
   },
   {
    "duration": 2,
    "start_time": "2022-08-02T08:51:03.626Z"
   },
   {
    "duration": 2,
    "start_time": "2022-08-02T08:51:20.401Z"
   },
   {
    "duration": 180,
    "start_time": "2022-08-02T08:51:21.750Z"
   },
   {
    "duration": 7,
    "start_time": "2022-08-02T08:51:24.878Z"
   },
   {
    "duration": 23,
    "start_time": "2022-08-02T08:51:28.710Z"
   },
   {
    "duration": 4,
    "start_time": "2022-08-02T08:51:31.590Z"
   },
   {
    "duration": 7,
    "start_time": "2022-08-02T08:51:33.471Z"
   },
   {
    "duration": 3,
    "start_time": "2022-08-02T08:51:35.406Z"
   },
   {
    "duration": 28,
    "start_time": "2022-08-02T08:51:37.487Z"
   },
   {
    "duration": 9,
    "start_time": "2022-08-02T08:51:43.279Z"
   },
   {
    "duration": 17,
    "start_time": "2022-08-02T08:51:47.967Z"
   },
   {
    "duration": 21,
    "start_time": "2022-08-02T12:24:53.732Z"
   },
   {
    "duration": 73,
    "start_time": "2022-08-02T12:27:10.427Z"
   },
   {
    "duration": 76,
    "start_time": "2022-08-02T12:27:12.755Z"
   },
   {
    "duration": 84,
    "start_time": "2022-08-02T12:27:23.634Z"
   },
   {
    "duration": 17,
    "start_time": "2022-08-02T12:27:36.827Z"
   },
   {
    "duration": 44,
    "start_time": "2022-08-02T12:27:40.043Z"
   },
   {
    "duration": 44,
    "start_time": "2022-08-02T12:27:41.925Z"
   },
   {
    "duration": 54,
    "start_time": "2022-08-02T12:27:43.730Z"
   },
   {
    "duration": 51,
    "start_time": "2022-08-02T12:55:06.784Z"
   },
   {
    "duration": 3,
    "start_time": "2022-08-02T12:55:40.257Z"
   },
   {
    "duration": 9,
    "start_time": "2022-08-02T12:55:42.354Z"
   },
   {
    "duration": 3,
    "start_time": "2022-08-02T12:58:23.616Z"
   },
   {
    "duration": 7,
    "start_time": "2022-08-02T12:58:25.412Z"
   },
   {
    "duration": 8,
    "start_time": "2022-08-02T12:59:05.168Z"
   },
   {
    "duration": 6,
    "start_time": "2022-08-02T12:59:14.839Z"
   },
   {
    "duration": 7,
    "start_time": "2022-08-02T12:59:20.419Z"
   },
   {
    "duration": 10,
    "start_time": "2022-08-02T14:07:24.329Z"
   },
   {
    "duration": 13,
    "start_time": "2022-08-02T14:07:27.566Z"
   },
   {
    "duration": 3,
    "start_time": "2022-08-02T14:10:07.582Z"
   },
   {
    "duration": 9,
    "start_time": "2022-08-02T14:10:10.174Z"
   },
   {
    "duration": 3,
    "start_time": "2022-08-02T14:12:38.188Z"
   },
   {
    "duration": 3,
    "start_time": "2022-08-02T14:12:45.668Z"
   },
   {
    "duration": 10,
    "start_time": "2022-08-02T14:12:47.086Z"
   },
   {
    "duration": 3,
    "start_time": "2022-08-02T14:13:15.425Z"
   },
   {
    "duration": 24,
    "start_time": "2022-08-02T14:13:17.091Z"
   },
   {
    "duration": 109,
    "start_time": "2022-08-02T14:13:52.530Z"
   },
   {
    "duration": 89,
    "start_time": "2022-08-02T14:14:02.387Z"
   },
   {
    "duration": 23,
    "start_time": "2022-08-02T14:14:08.163Z"
   },
   {
    "duration": 7,
    "start_time": "2022-08-02T14:15:41.626Z"
   },
   {
    "duration": 7,
    "start_time": "2022-08-02T14:16:52.721Z"
   },
   {
    "duration": 359,
    "start_time": "2022-08-02T14:24:08.871Z"
   },
   {
    "duration": 3,
    "start_time": "2022-08-02T14:24:10.825Z"
   },
   {
    "duration": 7,
    "start_time": "2022-08-02T14:24:13.754Z"
   },
   {
    "duration": 29,
    "start_time": "2022-08-02T14:24:22.226Z"
   },
   {
    "duration": 3,
    "start_time": "2022-08-02T14:25:03.429Z"
   },
   {
    "duration": 10,
    "start_time": "2022-08-02T14:26:27.364Z"
   },
   {
    "duration": 3,
    "start_time": "2022-08-02T14:26:30.249Z"
   },
   {
    "duration": 9,
    "start_time": "2022-08-02T14:26:44.386Z"
   },
   {
    "duration": 3,
    "start_time": "2022-08-02T14:26:45.960Z"
   },
   {
    "duration": 25,
    "start_time": "2022-08-02T14:26:49.560Z"
   },
   {
    "duration": 121,
    "start_time": "2022-08-02T14:26:53.657Z"
   },
   {
    "duration": 44,
    "start_time": "2022-08-02T14:26:57.329Z"
   },
   {
    "duration": 56,
    "start_time": "2022-08-02T14:26:59.729Z"
   },
   {
    "duration": 71,
    "start_time": "2022-08-02T14:27:01.725Z"
   },
   {
    "duration": 53,
    "start_time": "2022-08-02T14:27:03.264Z"
   },
   {
    "duration": 51,
    "start_time": "2022-08-02T14:27:05.372Z"
   },
   {
    "duration": 4,
    "start_time": "2022-08-02T14:27:09.725Z"
   },
   {
    "duration": 23,
    "start_time": "2022-08-02T14:27:11.968Z"
   },
   {
    "duration": 24,
    "start_time": "2022-08-02T14:27:17.723Z"
   },
   {
    "duration": 6,
    "start_time": "2022-08-02T14:27:20.152Z"
   },
   {
    "duration": 8,
    "start_time": "2022-08-02T14:31:01.180Z"
   },
   {
    "duration": 4,
    "start_time": "2022-08-02T14:31:09.428Z"
   },
   {
    "duration": 4,
    "start_time": "2022-08-02T14:31:19.424Z"
   },
   {
    "duration": 35,
    "start_time": "2022-08-02T14:31:50.091Z"
   },
   {
    "duration": 33,
    "start_time": "2022-08-02T14:33:59.532Z"
   },
   {
    "duration": 3,
    "start_time": "2022-08-02T14:50:10.721Z"
   },
   {
    "duration": 72,
    "start_time": "2022-08-02T14:50:32.562Z"
   },
   {
    "duration": 4,
    "start_time": "2022-08-02T14:50:45.568Z"
   },
   {
    "duration": 5,
    "start_time": "2022-08-02T14:51:12.825Z"
   },
   {
    "duration": 87,
    "start_time": "2022-08-02T14:57:23.624Z"
   },
   {
    "duration": 10,
    "start_time": "2022-08-02T14:57:42.362Z"
   },
   {
    "duration": 6,
    "start_time": "2022-08-02T14:58:02.267Z"
   },
   {
    "duration": 52,
    "start_time": "2022-08-03T09:00:12.418Z"
   },
   {
    "duration": 386,
    "start_time": "2022-08-03T09:00:21.459Z"
   },
   {
    "duration": 392,
    "start_time": "2022-08-03T09:00:23.179Z"
   },
   {
    "duration": 3,
    "start_time": "2022-08-03T09:01:34.338Z"
   },
   {
    "duration": 421,
    "start_time": "2022-08-03T09:01:34.343Z"
   },
   {
    "duration": 9,
    "start_time": "2022-08-03T09:01:34.766Z"
   },
   {
    "duration": 100,
    "start_time": "2022-08-03T09:01:34.778Z"
   },
   {
    "duration": 0,
    "start_time": "2022-08-03T09:01:34.883Z"
   },
   {
    "duration": 0,
    "start_time": "2022-08-03T09:01:34.884Z"
   },
   {
    "duration": 0,
    "start_time": "2022-08-03T09:01:34.886Z"
   },
   {
    "duration": 0,
    "start_time": "2022-08-03T09:01:34.887Z"
   },
   {
    "duration": 0,
    "start_time": "2022-08-03T09:01:34.889Z"
   },
   {
    "duration": 0,
    "start_time": "2022-08-03T09:01:34.890Z"
   },
   {
    "duration": 0,
    "start_time": "2022-08-03T09:01:34.891Z"
   },
   {
    "duration": 0,
    "start_time": "2022-08-03T09:01:34.893Z"
   },
   {
    "duration": 0,
    "start_time": "2022-08-03T09:01:34.894Z"
   },
   {
    "duration": 0,
    "start_time": "2022-08-03T09:01:34.895Z"
   },
   {
    "duration": 0,
    "start_time": "2022-08-03T09:01:34.896Z"
   },
   {
    "duration": 0,
    "start_time": "2022-08-03T09:01:34.897Z"
   },
   {
    "duration": 0,
    "start_time": "2022-08-03T09:01:34.898Z"
   },
   {
    "duration": 0,
    "start_time": "2022-08-03T09:01:34.908Z"
   },
   {
    "duration": 0,
    "start_time": "2022-08-03T09:01:34.909Z"
   },
   {
    "duration": 0,
    "start_time": "2022-08-03T09:01:34.910Z"
   },
   {
    "duration": 0,
    "start_time": "2022-08-03T09:01:34.910Z"
   },
   {
    "duration": 0,
    "start_time": "2022-08-03T09:01:34.911Z"
   },
   {
    "duration": 0,
    "start_time": "2022-08-03T09:01:34.912Z"
   },
   {
    "duration": 0,
    "start_time": "2022-08-03T09:01:34.913Z"
   },
   {
    "duration": 0,
    "start_time": "2022-08-03T09:01:34.914Z"
   },
   {
    "duration": 0,
    "start_time": "2022-08-03T09:01:34.914Z"
   },
   {
    "duration": 0,
    "start_time": "2022-08-03T09:01:34.915Z"
   },
   {
    "duration": 0,
    "start_time": "2022-08-03T09:01:34.916Z"
   },
   {
    "duration": 0,
    "start_time": "2022-08-03T09:01:34.917Z"
   },
   {
    "duration": 0,
    "start_time": "2022-08-03T09:01:34.917Z"
   },
   {
    "duration": 0,
    "start_time": "2022-08-03T09:01:34.918Z"
   },
   {
    "duration": 0,
    "start_time": "2022-08-03T09:01:34.919Z"
   },
   {
    "duration": 0,
    "start_time": "2022-08-03T09:01:34.919Z"
   },
   {
    "duration": 0,
    "start_time": "2022-08-03T09:01:34.920Z"
   },
   {
    "duration": 0,
    "start_time": "2022-08-03T09:01:34.921Z"
   },
   {
    "duration": 0,
    "start_time": "2022-08-03T09:01:34.921Z"
   },
   {
    "duration": 0,
    "start_time": "2022-08-03T09:01:34.922Z"
   },
   {
    "duration": 0,
    "start_time": "2022-08-03T09:01:34.922Z"
   },
   {
    "duration": 0,
    "start_time": "2022-08-03T09:01:34.923Z"
   },
   {
    "duration": 1645,
    "start_time": "2022-08-03T09:01:41.523Z"
   },
   {
    "duration": 5,
    "start_time": "2022-08-03T09:07:58.785Z"
   },
   {
    "duration": 6,
    "start_time": "2022-08-03T09:08:01.562Z"
   },
   {
    "duration": 1862,
    "start_time": "2022-08-03T09:08:14.827Z"
   },
   {
    "duration": 7,
    "start_time": "2022-08-03T09:10:59.963Z"
   },
   {
    "duration": 2497,
    "start_time": "2022-08-03T09:11:15.682Z"
   },
   {
    "duration": 43,
    "start_time": "2022-08-03T22:45:30.221Z"
   },
   {
    "duration": 6,
    "start_time": "2022-08-03T22:46:11.830Z"
   },
   {
    "duration": 397,
    "start_time": "2022-08-03T22:47:18.344Z"
   },
   {
    "duration": 339,
    "start_time": "2022-08-03T22:47:18.743Z"
   },
   {
    "duration": 6,
    "start_time": "2022-08-03T22:47:19.083Z"
   },
   {
    "duration": 80,
    "start_time": "2022-08-03T22:47:19.092Z"
   },
   {
    "duration": 0,
    "start_time": "2022-08-03T22:47:19.175Z"
   },
   {
    "duration": 0,
    "start_time": "2022-08-03T22:47:19.177Z"
   },
   {
    "duration": 0,
    "start_time": "2022-08-03T22:47:19.178Z"
   },
   {
    "duration": 0,
    "start_time": "2022-08-03T22:47:19.180Z"
   },
   {
    "duration": 0,
    "start_time": "2022-08-03T22:47:19.182Z"
   },
   {
    "duration": 0,
    "start_time": "2022-08-03T22:47:19.183Z"
   },
   {
    "duration": 0,
    "start_time": "2022-08-03T22:47:19.184Z"
   },
   {
    "duration": 0,
    "start_time": "2022-08-03T22:47:19.185Z"
   },
   {
    "duration": 0,
    "start_time": "2022-08-03T22:47:19.186Z"
   },
   {
    "duration": 0,
    "start_time": "2022-08-03T22:47:19.187Z"
   },
   {
    "duration": 0,
    "start_time": "2022-08-03T22:47:19.188Z"
   },
   {
    "duration": 0,
    "start_time": "2022-08-03T22:47:19.189Z"
   },
   {
    "duration": 0,
    "start_time": "2022-08-03T22:47:19.190Z"
   },
   {
    "duration": 0,
    "start_time": "2022-08-03T22:47:19.191Z"
   },
   {
    "duration": 0,
    "start_time": "2022-08-03T22:47:19.192Z"
   },
   {
    "duration": 0,
    "start_time": "2022-08-03T22:47:19.194Z"
   },
   {
    "duration": 0,
    "start_time": "2022-08-03T22:47:19.195Z"
   },
   {
    "duration": 0,
    "start_time": "2022-08-03T22:47:19.195Z"
   },
   {
    "duration": 0,
    "start_time": "2022-08-03T22:47:19.196Z"
   },
   {
    "duration": 0,
    "start_time": "2022-08-03T22:47:19.198Z"
   },
   {
    "duration": 0,
    "start_time": "2022-08-03T22:47:19.199Z"
   },
   {
    "duration": 0,
    "start_time": "2022-08-03T22:47:19.200Z"
   },
   {
    "duration": 0,
    "start_time": "2022-08-03T22:47:19.201Z"
   },
   {
    "duration": 0,
    "start_time": "2022-08-03T22:47:19.202Z"
   },
   {
    "duration": 0,
    "start_time": "2022-08-03T22:47:19.203Z"
   },
   {
    "duration": 0,
    "start_time": "2022-08-03T22:47:19.204Z"
   },
   {
    "duration": 0,
    "start_time": "2022-08-03T22:47:19.205Z"
   },
   {
    "duration": 0,
    "start_time": "2022-08-03T22:47:19.206Z"
   },
   {
    "duration": 0,
    "start_time": "2022-08-03T22:47:19.207Z"
   },
   {
    "duration": 0,
    "start_time": "2022-08-03T22:47:19.208Z"
   },
   {
    "duration": 0,
    "start_time": "2022-08-03T22:47:19.209Z"
   },
   {
    "duration": 0,
    "start_time": "2022-08-03T22:47:19.210Z"
   },
   {
    "duration": 0,
    "start_time": "2022-08-03T22:47:19.211Z"
   },
   {
    "duration": 0,
    "start_time": "2022-08-03T22:47:19.212Z"
   },
   {
    "duration": 0,
    "start_time": "2022-08-03T22:47:19.213Z"
   },
   {
    "duration": 29,
    "start_time": "2022-08-03T22:47:26.723Z"
   },
   {
    "duration": 2,
    "start_time": "2022-08-03T22:47:34.127Z"
   },
   {
    "duration": 242,
    "start_time": "2022-08-03T22:47:34.132Z"
   },
   {
    "duration": 7,
    "start_time": "2022-08-03T22:47:34.375Z"
   },
   {
    "duration": 81,
    "start_time": "2022-08-03T22:47:34.383Z"
   },
   {
    "duration": 0,
    "start_time": "2022-08-03T22:47:34.466Z"
   },
   {
    "duration": 0,
    "start_time": "2022-08-03T22:47:34.467Z"
   },
   {
    "duration": 0,
    "start_time": "2022-08-03T22:47:34.468Z"
   },
   {
    "duration": 0,
    "start_time": "2022-08-03T22:47:34.469Z"
   },
   {
    "duration": 0,
    "start_time": "2022-08-03T22:47:34.470Z"
   },
   {
    "duration": 0,
    "start_time": "2022-08-03T22:47:34.471Z"
   },
   {
    "duration": 0,
    "start_time": "2022-08-03T22:47:34.473Z"
   },
   {
    "duration": 0,
    "start_time": "2022-08-03T22:47:34.474Z"
   },
   {
    "duration": 0,
    "start_time": "2022-08-03T22:47:34.475Z"
   },
   {
    "duration": 0,
    "start_time": "2022-08-03T22:47:34.477Z"
   },
   {
    "duration": 0,
    "start_time": "2022-08-03T22:47:34.478Z"
   },
   {
    "duration": 0,
    "start_time": "2022-08-03T22:47:34.479Z"
   },
   {
    "duration": 0,
    "start_time": "2022-08-03T22:47:34.481Z"
   },
   {
    "duration": 0,
    "start_time": "2022-08-03T22:47:34.482Z"
   },
   {
    "duration": 10,
    "start_time": "2022-08-03T22:47:36.293Z"
   },
   {
    "duration": 2,
    "start_time": "2022-08-03T22:47:49.377Z"
   },
   {
    "duration": 249,
    "start_time": "2022-08-03T22:47:50.963Z"
   },
   {
    "duration": 7,
    "start_time": "2022-08-03T22:47:53.556Z"
   },
   {
    "duration": 26,
    "start_time": "2022-08-03T22:48:03.156Z"
   },
   {
    "duration": 4,
    "start_time": "2022-08-03T22:48:06.827Z"
   },
   {
    "duration": 13,
    "start_time": "2022-08-03T22:48:08.355Z"
   },
   {
    "duration": 3,
    "start_time": "2022-08-03T22:48:10.340Z"
   },
   {
    "duration": 21,
    "start_time": "2022-08-03T22:48:11.933Z"
   },
   {
    "duration": 103,
    "start_time": "2022-08-03T22:48:13.483Z"
   },
   {
    "duration": 20,
    "start_time": "2022-08-03T22:48:16.148Z"
   },
   {
    "duration": 80,
    "start_time": "2022-08-03T22:48:18.740Z"
   },
   {
    "duration": 68,
    "start_time": "2022-08-03T22:48:20.371Z"
   },
   {
    "duration": 60,
    "start_time": "2022-08-03T22:48:22.155Z"
   },
   {
    "duration": 50,
    "start_time": "2022-08-03T22:48:24.467Z"
   },
   {
    "duration": 3,
    "start_time": "2022-08-03T22:48:27.524Z"
   },
   {
    "duration": 19,
    "start_time": "2022-08-03T22:48:29.125Z"
   },
   {
    "duration": 6,
    "start_time": "2022-08-03T22:48:30.518Z"
   },
   {
    "duration": 27,
    "start_time": "2022-08-03T22:48:32.868Z"
   },
   {
    "duration": 27,
    "start_time": "2022-08-03T22:48:36.140Z"
   },
   {
    "duration": 9,
    "start_time": "2022-08-03T22:55:07.367Z"
   },
   {
    "duration": 8,
    "start_time": "2022-08-03T22:55:21.278Z"
   },
   {
    "duration": 28,
    "start_time": "2022-08-03T22:55:41.303Z"
   },
   {
    "duration": 9,
    "start_time": "2022-08-03T22:57:18.965Z"
   },
   {
    "duration": 33,
    "start_time": "2022-08-03T22:58:59.579Z"
   },
   {
    "duration": 4,
    "start_time": "2022-08-03T22:59:32.229Z"
   },
   {
    "duration": 45,
    "start_time": "2022-08-03T23:00:00.231Z"
   },
   {
    "duration": 16,
    "start_time": "2022-08-03T23:00:45.748Z"
   },
   {
    "duration": 16,
    "start_time": "2022-08-03T23:02:19.858Z"
   },
   {
    "duration": 34,
    "start_time": "2022-08-03T23:12:10.282Z"
   },
   {
    "duration": 84,
    "start_time": "2022-08-03T23:15:26.257Z"
   },
   {
    "duration": 91,
    "start_time": "2022-08-03T23:15:47.040Z"
   },
   {
    "duration": 12,
    "start_time": "2022-08-03T23:16:21.976Z"
   },
   {
    "duration": 9,
    "start_time": "2022-08-03T23:16:41.376Z"
   },
   {
    "duration": 29,
    "start_time": "2022-08-03T23:19:56.532Z"
   },
   {
    "duration": 97,
    "start_time": "2022-08-03T23:24:29.082Z"
   },
   {
    "duration": 86,
    "start_time": "2022-08-03T23:25:10.524Z"
   },
   {
    "duration": 39,
    "start_time": "2022-08-03T23:25:50.097Z"
   },
   {
    "duration": 17,
    "start_time": "2022-08-03T23:28:00.351Z"
   },
   {
    "duration": 52,
    "start_time": "2022-08-03T23:31:40.028Z"
   },
   {
    "duration": 28,
    "start_time": "2022-08-03T23:34:28.521Z"
   },
   {
    "duration": 29,
    "start_time": "2022-08-03T23:34:50.483Z"
   },
   {
    "duration": 30,
    "start_time": "2022-08-03T23:35:35.624Z"
   },
   {
    "duration": 32,
    "start_time": "2022-08-03T23:35:48.633Z"
   },
   {
    "duration": 51,
    "start_time": "2022-08-03T23:36:24.616Z"
   },
   {
    "duration": 30,
    "start_time": "2022-08-03T23:37:01.225Z"
   },
   {
    "duration": 24,
    "start_time": "2022-08-03T23:37:26.184Z"
   },
   {
    "duration": 23,
    "start_time": "2022-08-03T23:38:39.120Z"
   },
   {
    "duration": 31,
    "start_time": "2022-08-03T23:38:56.023Z"
   },
   {
    "duration": 26,
    "start_time": "2022-08-03T23:39:34.790Z"
   },
   {
    "duration": 24,
    "start_time": "2022-08-03T23:41:26.148Z"
   },
   {
    "duration": 36,
    "start_time": "2022-08-03T23:41:59.823Z"
   },
   {
    "duration": 26,
    "start_time": "2022-08-03T23:42:56.180Z"
   },
   {
    "duration": 14,
    "start_time": "2022-08-03T23:45:59.364Z"
   },
   {
    "duration": 11,
    "start_time": "2022-08-03T23:47:04.233Z"
   },
   {
    "duration": 20,
    "start_time": "2022-08-03T23:47:39.689Z"
   },
   {
    "duration": 30,
    "start_time": "2022-08-03T23:51:57.614Z"
   },
   {
    "duration": 16,
    "start_time": "2022-08-03T23:52:16.478Z"
   },
   {
    "duration": 14,
    "start_time": "2022-08-03T23:55:02.920Z"
   },
   {
    "duration": 14,
    "start_time": "2022-08-03T23:58:05.378Z"
   },
   {
    "duration": 15,
    "start_time": "2022-08-03T23:58:08.162Z"
   },
   {
    "duration": 17,
    "start_time": "2022-08-04T00:03:27.189Z"
   },
   {
    "duration": 18,
    "start_time": "2022-08-04T00:03:54.135Z"
   },
   {
    "duration": 11,
    "start_time": "2022-08-04T00:05:01.140Z"
   },
   {
    "duration": 11,
    "start_time": "2022-08-04T00:05:12.132Z"
   },
   {
    "duration": 18,
    "start_time": "2022-08-04T00:05:26.755Z"
   },
   {
    "duration": 24,
    "start_time": "2022-08-04T00:06:04.581Z"
   },
   {
    "duration": 102,
    "start_time": "2022-08-04T00:10:24.679Z"
   },
   {
    "duration": 16,
    "start_time": "2022-08-04T00:11:43.359Z"
   },
   {
    "duration": 17,
    "start_time": "2022-08-04T00:11:51.124Z"
   },
   {
    "duration": 16,
    "start_time": "2022-08-04T00:12:22.927Z"
   },
   {
    "duration": 15,
    "start_time": "2022-08-04T00:22:59.306Z"
   },
   {
    "duration": 12,
    "start_time": "2022-08-04T00:23:01.629Z"
   },
   {
    "duration": 22,
    "start_time": "2022-08-04T00:27:05.725Z"
   },
   {
    "duration": 6,
    "start_time": "2022-08-04T00:27:18.189Z"
   },
   {
    "duration": 7,
    "start_time": "2022-08-04T00:27:24.140Z"
   },
   {
    "duration": 20,
    "start_time": "2022-08-04T00:27:55.430Z"
   },
   {
    "duration": 6,
    "start_time": "2022-08-04T00:27:56.732Z"
   },
   {
    "duration": 4,
    "start_time": "2022-08-04T00:28:15.893Z"
   },
   {
    "duration": 19,
    "start_time": "2022-08-04T00:28:18.379Z"
   },
   {
    "duration": 11,
    "start_time": "2022-08-04T00:28:21.731Z"
   },
   {
    "duration": 17,
    "start_time": "2022-08-04T00:28:23.939Z"
   },
   {
    "duration": 11,
    "start_time": "2022-08-04T00:28:26.749Z"
   },
   {
    "duration": 19,
    "start_time": "2022-08-04T00:28:42.580Z"
   },
   {
    "duration": 25,
    "start_time": "2022-08-04T00:29:38.787Z"
   },
   {
    "duration": 22,
    "start_time": "2022-08-04T00:31:15.409Z"
   },
   {
    "duration": 18,
    "start_time": "2022-08-04T00:32:13.865Z"
   },
   {
    "duration": 6,
    "start_time": "2022-08-04T00:32:35.720Z"
   },
   {
    "duration": 12,
    "start_time": "2022-08-04T00:33:13.760Z"
   },
   {
    "duration": 25,
    "start_time": "2022-08-04T00:34:01.125Z"
   },
   {
    "duration": 6,
    "start_time": "2022-08-04T00:34:08.384Z"
   },
   {
    "duration": 19,
    "start_time": "2022-08-04T00:34:16.081Z"
   },
   {
    "duration": 6,
    "start_time": "2022-08-04T00:34:19.831Z"
   },
   {
    "duration": 72,
    "start_time": "2022-08-05T04:05:50.901Z"
   },
   {
    "duration": 95,
    "start_time": "2022-08-05T04:07:51.563Z"
   },
   {
    "duration": 45,
    "start_time": "2022-08-05T05:07:58.242Z"
   },
   {
    "duration": 6,
    "start_time": "2022-08-05T05:08:37.222Z"
   },
   {
    "duration": 372,
    "start_time": "2022-08-05T05:08:44.615Z"
   },
   {
    "duration": 408,
    "start_time": "2022-08-05T05:08:46.139Z"
   },
   {
    "duration": 272,
    "start_time": "2022-08-05T05:08:48.990Z"
   },
   {
    "duration": 7,
    "start_time": "2022-08-05T05:08:51.446Z"
   },
   {
    "duration": 11,
    "start_time": "2022-08-05T05:08:58.773Z"
   },
   {
    "duration": 33,
    "start_time": "2022-08-05T05:09:02.509Z"
   },
   {
    "duration": 3,
    "start_time": "2022-08-05T05:09:06.679Z"
   },
   {
    "duration": 4,
    "start_time": "2022-08-05T05:09:13.107Z"
   },
   {
    "duration": 23,
    "start_time": "2022-08-05T05:09:21.307Z"
   },
   {
    "duration": 34,
    "start_time": "2022-08-05T05:09:32.127Z"
   },
   {
    "duration": 57,
    "start_time": "2022-08-05T05:09:38.211Z"
   },
   {
    "duration": 60,
    "start_time": "2022-08-05T05:09:54.677Z"
   },
   {
    "duration": 55,
    "start_time": "2022-08-05T05:09:56.685Z"
   },
   {
    "duration": 54,
    "start_time": "2022-08-05T05:09:58.524Z"
   },
   {
    "duration": 51,
    "start_time": "2022-08-05T05:10:02.046Z"
   },
   {
    "duration": 38,
    "start_time": "2022-08-05T05:10:33.510Z"
   },
   {
    "duration": 81,
    "start_time": "2022-08-05T05:10:59.580Z"
   },
   {
    "duration": 32,
    "start_time": "2022-08-05T05:11:13.974Z"
   },
   {
    "duration": 47,
    "start_time": "2022-08-05T05:11:59.796Z"
   },
   {
    "duration": 24,
    "start_time": "2022-08-05T05:12:13.107Z"
   },
   {
    "duration": 11,
    "start_time": "2022-08-05T05:12:15.483Z"
   },
   {
    "duration": 2,
    "start_time": "2022-08-05T05:12:25.354Z"
   },
   {
    "duration": 322,
    "start_time": "2022-08-05T05:12:25.358Z"
   },
   {
    "duration": 11,
    "start_time": "2022-08-05T05:12:25.682Z"
   },
   {
    "duration": 82,
    "start_time": "2022-08-05T05:12:25.694Z"
   },
   {
    "duration": 0,
    "start_time": "2022-08-05T05:12:25.778Z"
   },
   {
    "duration": 0,
    "start_time": "2022-08-05T05:12:25.779Z"
   },
   {
    "duration": 0,
    "start_time": "2022-08-05T05:12:25.780Z"
   },
   {
    "duration": 0,
    "start_time": "2022-08-05T05:12:25.782Z"
   },
   {
    "duration": 0,
    "start_time": "2022-08-05T05:12:25.783Z"
   },
   {
    "duration": 0,
    "start_time": "2022-08-05T05:12:25.784Z"
   },
   {
    "duration": 0,
    "start_time": "2022-08-05T05:12:25.785Z"
   },
   {
    "duration": 0,
    "start_time": "2022-08-05T05:12:25.786Z"
   },
   {
    "duration": 0,
    "start_time": "2022-08-05T05:12:25.787Z"
   },
   {
    "duration": 0,
    "start_time": "2022-08-05T05:12:25.788Z"
   },
   {
    "duration": 0,
    "start_time": "2022-08-05T05:12:25.789Z"
   },
   {
    "duration": 0,
    "start_time": "2022-08-05T05:12:25.790Z"
   },
   {
    "duration": 0,
    "start_time": "2022-08-05T05:12:25.791Z"
   },
   {
    "duration": 0,
    "start_time": "2022-08-05T05:12:25.792Z"
   },
   {
    "duration": 0,
    "start_time": "2022-08-05T05:12:25.793Z"
   },
   {
    "duration": 0,
    "start_time": "2022-08-05T05:12:25.794Z"
   },
   {
    "duration": 0,
    "start_time": "2022-08-05T05:12:25.795Z"
   },
   {
    "duration": 0,
    "start_time": "2022-08-05T05:12:25.796Z"
   },
   {
    "duration": 0,
    "start_time": "2022-08-05T05:12:25.798Z"
   },
   {
    "duration": 0,
    "start_time": "2022-08-05T05:12:25.799Z"
   },
   {
    "duration": 0,
    "start_time": "2022-08-05T05:12:25.800Z"
   },
   {
    "duration": 0,
    "start_time": "2022-08-05T05:12:25.801Z"
   },
   {
    "duration": 0,
    "start_time": "2022-08-05T05:12:25.803Z"
   },
   {
    "duration": 0,
    "start_time": "2022-08-05T05:12:25.804Z"
   },
   {
    "duration": 0,
    "start_time": "2022-08-05T05:12:25.806Z"
   },
   {
    "duration": 0,
    "start_time": "2022-08-05T05:12:25.807Z"
   },
   {
    "duration": 0,
    "start_time": "2022-08-05T05:12:25.808Z"
   },
   {
    "duration": 0,
    "start_time": "2022-08-05T05:12:25.809Z"
   },
   {
    "duration": 0,
    "start_time": "2022-08-05T05:12:25.810Z"
   },
   {
    "duration": 0,
    "start_time": "2022-08-05T05:12:25.811Z"
   },
   {
    "duration": 0,
    "start_time": "2022-08-05T05:12:25.812Z"
   },
   {
    "duration": 0,
    "start_time": "2022-08-05T05:12:25.814Z"
   },
   {
    "duration": 0,
    "start_time": "2022-08-05T05:12:25.815Z"
   },
   {
    "duration": 0,
    "start_time": "2022-08-05T05:12:25.817Z"
   },
   {
    "duration": 0,
    "start_time": "2022-08-05T05:12:25.819Z"
   },
   {
    "duration": 2,
    "start_time": "2022-08-05T05:12:45.072Z"
   },
   {
    "duration": 257,
    "start_time": "2022-08-05T05:12:46.987Z"
   },
   {
    "duration": 10,
    "start_time": "2022-08-05T05:12:48.866Z"
   },
   {
    "duration": 76,
    "start_time": "2022-08-05T05:12:50.307Z"
   },
   {
    "duration": 10,
    "start_time": "2022-08-05T05:12:54.211Z"
   },
   {
    "duration": 29,
    "start_time": "2022-08-05T05:12:58.627Z"
   },
   {
    "duration": 4,
    "start_time": "2022-08-05T05:13:01.930Z"
   },
   {
    "duration": 12,
    "start_time": "2022-08-05T05:13:03.642Z"
   },
   {
    "duration": 3,
    "start_time": "2022-08-05T05:13:07.976Z"
   },
   {
    "duration": 35,
    "start_time": "2022-08-05T05:13:09.730Z"
   },
   {
    "duration": 95,
    "start_time": "2022-08-05T05:13:11.444Z"
   },
   {
    "duration": 23,
    "start_time": "2022-08-05T05:13:17.066Z"
   },
   {
    "duration": 59,
    "start_time": "2022-08-05T05:13:19.406Z"
   },
   {
    "duration": 55,
    "start_time": "2022-08-05T05:13:20.554Z"
   },
   {
    "duration": 48,
    "start_time": "2022-08-05T05:13:23.866Z"
   },
   {
    "duration": 3,
    "start_time": "2022-08-05T05:13:27.577Z"
   },
   {
    "duration": 21,
    "start_time": "2022-08-05T05:13:29.411Z"
   },
   {
    "duration": 41,
    "start_time": "2022-08-05T05:13:31.426Z"
   },
   {
    "duration": 11,
    "start_time": "2022-08-05T05:13:52.049Z"
   },
   {
    "duration": 12,
    "start_time": "2022-08-05T05:14:07.563Z"
   },
   {
    "duration": 18,
    "start_time": "2022-08-05T05:14:21.361Z"
   },
   {
    "duration": 11,
    "start_time": "2022-08-05T05:14:29.313Z"
   },
   {
    "duration": 9,
    "start_time": "2022-08-05T05:14:30.273Z"
   },
   {
    "duration": 4,
    "start_time": "2022-08-05T05:14:32.730Z"
   },
   {
    "duration": 16,
    "start_time": "2022-08-05T05:14:34.057Z"
   },
   {
    "duration": 10,
    "start_time": "2022-08-05T05:14:35.226Z"
   },
   {
    "duration": 22,
    "start_time": "2022-08-05T05:14:36.177Z"
   },
   {
    "duration": 13,
    "start_time": "2022-08-05T05:14:37.146Z"
   },
   {
    "duration": 101,
    "start_time": "2022-08-05T05:14:48.730Z"
   },
   {
    "duration": 12,
    "start_time": "2022-08-05T05:15:01.946Z"
   },
   {
    "duration": 86,
    "start_time": "2022-08-05T05:15:31.258Z"
   },
   {
    "duration": 1532,
    "start_time": "2022-08-05T05:16:07.203Z"
   },
   {
    "duration": 26,
    "start_time": "2022-08-05T05:16:39.897Z"
   },
   {
    "duration": 12,
    "start_time": "2022-08-05T05:22:24.013Z"
   },
   {
    "duration": 4,
    "start_time": "2022-08-05T05:22:26.141Z"
   },
   {
    "duration": 3,
    "start_time": "2022-08-05T05:22:37.229Z"
   },
   {
    "duration": 22,
    "start_time": "2022-08-05T05:22:39.013Z"
   },
   {
    "duration": 3,
    "start_time": "2022-08-05T05:24:56.484Z"
   },
   {
    "duration": 3,
    "start_time": "2022-08-05T05:25:00.722Z"
   },
   {
    "duration": 18,
    "start_time": "2022-08-05T05:25:06.227Z"
   },
   {
    "duration": 13,
    "start_time": "2022-08-05T05:25:59.006Z"
   },
   {
    "duration": 15,
    "start_time": "2022-08-05T05:25:59.882Z"
   },
   {
    "duration": 13,
    "start_time": "2022-08-05T05:26:01.690Z"
   },
   {
    "duration": 15,
    "start_time": "2022-08-05T05:26:02.571Z"
   },
   {
    "duration": 14,
    "start_time": "2022-08-05T05:26:03.570Z"
   },
   {
    "duration": 57,
    "start_time": "2022-08-05T05:31:03.167Z"
   },
   {
    "duration": 65,
    "start_time": "2022-08-05T05:31:06.407Z"
   },
   {
    "duration": 5,
    "start_time": "2022-08-05T05:34:51.046Z"
   },
   {
    "duration": 8,
    "start_time": "2022-08-05T05:35:13.348Z"
   },
   {
    "duration": 8,
    "start_time": "2022-08-05T05:35:23.037Z"
   },
   {
    "duration": 7,
    "start_time": "2022-08-05T05:41:49.009Z"
   },
   {
    "duration": 9,
    "start_time": "2022-08-05T05:42:21.071Z"
   },
   {
    "duration": 27,
    "start_time": "2022-08-05T05:46:12.622Z"
   },
   {
    "duration": 9,
    "start_time": "2022-08-05T05:46:28.958Z"
   },
   {
    "duration": 47,
    "start_time": "2022-08-05T05:53:54.542Z"
   },
   {
    "duration": 65,
    "start_time": "2022-08-05T05:54:56.587Z"
   },
   {
    "duration": 51,
    "start_time": "2022-08-05T05:55:00.243Z"
   },
   {
    "duration": 3,
    "start_time": "2022-08-05T05:55:05.930Z"
   },
   {
    "duration": 317,
    "start_time": "2022-08-05T05:55:05.935Z"
   },
   {
    "duration": 13,
    "start_time": "2022-08-05T05:55:06.255Z"
   },
   {
    "duration": 52,
    "start_time": "2022-08-05T05:55:06.270Z"
   },
   {
    "duration": 8,
    "start_time": "2022-08-05T05:55:06.324Z"
   },
   {
    "duration": 14,
    "start_time": "2022-08-05T05:55:06.333Z"
   },
   {
    "duration": 7,
    "start_time": "2022-08-05T05:55:06.349Z"
   },
   {
    "duration": 53,
    "start_time": "2022-08-05T05:55:06.359Z"
   },
   {
    "duration": 133,
    "start_time": "2022-08-05T05:55:06.414Z"
   },
   {
    "duration": 28,
    "start_time": "2022-08-05T05:55:06.549Z"
   },
   {
    "duration": 60,
    "start_time": "2022-08-05T05:55:06.588Z"
   },
   {
    "duration": 76,
    "start_time": "2022-08-05T05:55:06.650Z"
   },
   {
    "duration": 60,
    "start_time": "2022-08-05T05:55:06.728Z"
   },
   {
    "duration": 50,
    "start_time": "2022-08-05T05:55:06.789Z"
   },
   {
    "duration": 3,
    "start_time": "2022-08-05T05:55:06.840Z"
   },
   {
    "duration": 44,
    "start_time": "2022-08-05T05:55:06.845Z"
   },
   {
    "duration": 40,
    "start_time": "2022-08-05T05:55:06.890Z"
   },
   {
    "duration": 12,
    "start_time": "2022-08-05T05:55:06.931Z"
   },
   {
    "duration": 15,
    "start_time": "2022-08-05T05:55:06.945Z"
   },
   {
    "duration": 4,
    "start_time": "2022-08-05T05:55:06.987Z"
   },
   {
    "duration": 26,
    "start_time": "2022-08-05T05:55:06.993Z"
   },
   {
    "duration": 13,
    "start_time": "2022-08-05T05:55:07.021Z"
   },
   {
    "duration": 16,
    "start_time": "2022-08-05T05:55:07.035Z"
   },
   {
    "duration": 13,
    "start_time": "2022-08-05T05:55:07.052Z"
   },
   {
    "duration": 38,
    "start_time": "2022-08-05T05:55:07.066Z"
   },
   {
    "duration": 19,
    "start_time": "2022-08-05T05:55:07.106Z"
   },
   {
    "duration": 36,
    "start_time": "2022-08-05T05:55:07.127Z"
   },
   {
    "duration": 21,
    "start_time": "2022-08-05T05:55:07.164Z"
   },
   {
    "duration": 14,
    "start_time": "2022-08-05T05:55:07.189Z"
   },
   {
    "duration": 6,
    "start_time": "2022-08-05T05:55:07.206Z"
   },
   {
    "duration": 40,
    "start_time": "2022-08-05T05:55:07.213Z"
   },
   {
    "duration": 15,
    "start_time": "2022-08-05T05:55:07.255Z"
   },
   {
    "duration": 27,
    "start_time": "2022-08-05T05:55:07.272Z"
   },
   {
    "duration": 12,
    "start_time": "2022-08-05T05:55:07.301Z"
   },
   {
    "duration": 25,
    "start_time": "2022-08-05T05:55:07.315Z"
   },
   {
    "duration": 8,
    "start_time": "2022-08-05T05:55:07.342Z"
   },
   {
    "duration": 50,
    "start_time": "2022-08-05T05:55:07.351Z"
   },
   {
    "duration": 7,
    "start_time": "2022-08-05T05:55:07.403Z"
   },
   {
    "duration": 59,
    "start_time": "2022-08-05T05:56:28.036Z"
   },
   {
    "duration": 12,
    "start_time": "2022-08-05T05:57:13.419Z"
   },
   {
    "duration": 11,
    "start_time": "2022-08-05T05:57:33.458Z"
   },
   {
    "duration": 11,
    "start_time": "2022-08-05T05:57:45.266Z"
   },
   {
    "duration": 10,
    "start_time": "2022-08-05T05:58:25.250Z"
   },
   {
    "duration": 9,
    "start_time": "2022-08-05T05:58:40.698Z"
   },
   {
    "duration": 7,
    "start_time": "2022-08-05T05:58:55.963Z"
   },
   {
    "duration": 5,
    "start_time": "2022-08-05T05:59:12.657Z"
   },
   {
    "duration": 5,
    "start_time": "2022-08-05T05:59:19.354Z"
   },
   {
    "duration": 49,
    "start_time": "2022-08-15T09:02:57.285Z"
   },
   {
    "duration": 400,
    "start_time": "2022-08-15T09:03:05.505Z"
   },
   {
    "duration": 629,
    "start_time": "2022-08-15T09:03:07.499Z"
   },
   {
    "duration": 12,
    "start_time": "2022-08-15T09:03:10.378Z"
   },
   {
    "duration": 28,
    "start_time": "2022-08-15T09:03:13.202Z"
   },
   {
    "duration": 4,
    "start_time": "2022-08-15T09:03:18.490Z"
   },
   {
    "duration": 11,
    "start_time": "2022-08-15T09:03:21.074Z"
   },
   {
    "duration": 5,
    "start_time": "2022-08-15T09:03:22.537Z"
   },
   {
    "duration": 23,
    "start_time": "2022-08-15T09:03:24.226Z"
   },
   {
    "duration": 166,
    "start_time": "2022-08-15T09:03:26.514Z"
   },
   {
    "duration": 24,
    "start_time": "2022-08-15T09:03:29.186Z"
   },
   {
    "duration": 62,
    "start_time": "2022-08-15T09:03:31.610Z"
   },
   {
    "duration": 75,
    "start_time": "2022-08-15T09:03:33.474Z"
   },
   {
    "duration": 56,
    "start_time": "2022-08-15T09:03:34.714Z"
   },
   {
    "duration": 37,
    "start_time": "2022-08-15T09:03:38.698Z"
   },
   {
    "duration": 4,
    "start_time": "2022-08-15T09:03:42.154Z"
   },
   {
    "duration": 23,
    "start_time": "2022-08-15T09:03:43.994Z"
   },
   {
    "duration": 45,
    "start_time": "2022-08-15T09:03:45.483Z"
   },
   {
    "duration": 13,
    "start_time": "2022-08-15T09:03:47.593Z"
   },
   {
    "duration": 12,
    "start_time": "2022-08-15T09:03:53.746Z"
   },
   {
    "duration": 27,
    "start_time": "2022-08-15T09:04:14.387Z"
   },
   {
    "duration": 8,
    "start_time": "2022-08-15T09:04:21.849Z"
   },
   {
    "duration": 4,
    "start_time": "2022-08-15T09:04:33.562Z"
   },
   {
    "duration": 17,
    "start_time": "2022-08-15T09:04:36.350Z"
   },
   {
    "duration": 15,
    "start_time": "2022-08-15T09:04:40.273Z"
   },
   {
    "duration": 15,
    "start_time": "2022-08-15T09:04:41.272Z"
   },
   {
    "duration": 15,
    "start_time": "2022-08-15T09:04:42.016Z"
   },
   {
    "duration": 16,
    "start_time": "2022-08-15T09:04:43.008Z"
   },
   {
    "duration": 14,
    "start_time": "2022-08-15T09:04:43.784Z"
   },
   {
    "duration": 12,
    "start_time": "2022-08-15T09:04:46.960Z"
   },
   {
    "duration": 10,
    "start_time": "2022-08-15T09:04:47.949Z"
   },
   {
    "duration": 4,
    "start_time": "2022-08-15T09:04:49.954Z"
   },
   {
    "duration": 5,
    "start_time": "2022-08-15T09:04:51.289Z"
   },
   {
    "duration": 18,
    "start_time": "2022-08-15T09:04:52.800Z"
   },
   {
    "duration": 23,
    "start_time": "2022-08-15T09:04:54.248Z"
   },
   {
    "duration": 13,
    "start_time": "2022-08-15T09:04:55.079Z"
   }
  ],
  "colab": {
   "collapsed_sections": [
    "E0vqbgi9ay0H",
    "VUC88oWjTJw2",
    "atZAxtq4_Zcu"
   ],
   "name": "EmptyFinalProject.ipynb\"",
   "provenance": []
  },
  "kernelspec": {
   "display_name": "Python 3 (ipykernel)",
   "language": "python",
   "name": "python3"
  },
  "language_info": {
   "codemirror_mode": {
    "name": "ipython",
    "version": 3
   },
   "file_extension": ".py",
   "mimetype": "text/x-python",
   "name": "python",
   "nbconvert_exporter": "python",
   "pygments_lexer": "ipython3",
   "version": "3.9.5"
  },
  "toc": {
   "base_numbering": 1,
   "nav_menu": {},
   "number_sections": true,
   "sideBar": true,
   "skip_h1_title": true,
   "title_cell": "Table of Contents",
   "title_sidebar": "Contents",
   "toc_cell": false,
   "toc_position": {},
   "toc_section_display": true,
   "toc_window_display": false
  }
 },
 "nbformat": 4,
 "nbformat_minor": 4
}
